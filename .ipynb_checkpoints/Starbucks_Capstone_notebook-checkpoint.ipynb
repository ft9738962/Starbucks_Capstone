{
 "cells": [
  {
   "cell_type": "markdown",
   "metadata": {},
   "source": [
    "# Starbucks Capstone Challenge\n",
    "\n",
    "### Introduction\n",
    "\n",
    "This data set contains simulated data that mimics customer behavior on the Starbucks rewards mobile app. Once every few days, Starbucks sends out an offer to users of the mobile app. An offer can be merely an advertisement for a drink or an actual offer such as a discount or BOGO (buy one get one free). Some users might not receive any offer during certain weeks. \n",
    "\n",
    "Not all users receive the same offer, and that is the challenge to solve with this data set.\n",
    "\n",
    "Your task is to combine transaction, demographic and offer data to determine which demographic groups respond best to which offer type. This data set is a simplified version of the real Starbucks app because the underlying simulator only has one product whereas Starbucks actually sells dozens of products.\n",
    "\n",
    "Every offer has a validity period before the offer expires. As an example, a BOGO offer might be valid for only 5 days. You'll see in the data set that informational offers have a validity period even though these ads are merely providing information about a product; for example, if an informational offer has 7 days of validity, you can assume the customer is feeling the influence of the offer for 7 days after receiving the advertisement.\n",
    "\n",
    "You'll be given transactional data showing user purchases made on the app including the timestamp of purchase and the amount of money spent on a purchase. This transactional data also has a record for each offer that a user receives as well as a record for when a user actually views the offer. There are also records for when a user completes an offer. \n",
    "\n",
    "Keep in mind as well that someone using the app might make a purchase through the app without having received an offer or seen an offer.\n",
    "\n",
    "### Example\n",
    "\n",
    "To give an example, a user could receive a discount offer buy 10 dollars get 2 off on Monday. The offer is valid for 10 days from receipt. If the customer accumulates at least 10 dollars in purchases during the validity period, the customer completes the offer.\n",
    "\n",
    "However, there are a few things to watch out for in this data set. Customers do not opt into the offers that they receive; in other words, a user can receive an offer, never actually view the offer, and still complete the offer. For example, a user might receive the \"buy 10 dollars get 2 dollars off offer\", but the user never opens the offer during the 10 day validity period. The customer spends 15 dollars during those ten days. There will be an offer completion record in the data set; however, the customer was not influenced by the offer because the customer never viewed the offer.\n",
    "\n",
    "### Cleaning\n",
    "\n",
    "This makes data cleaning especially important and tricky.\n",
    "\n",
    "You'll also want to take into account that some demographic groups will make purchases even if they don't receive an offer. From a business perspective, if a customer is going to make a 10 dollar purchase without an offer anyway, you wouldn't want to send a buy 10 dollars get 2 dollars off offer. You'll want to try to assess what a certain demographic group will buy when not receiving any offers.\n",
    "\n",
    "### Final Advice\n",
    "\n",
    "Because this is a capstone project, you are free to analyze the data any way you see fit. For example, you could build a machine learning model that predicts how much someone will spend based on demographics and offer type. Or you could build a model that predicts whether or not someone will respond to an offer. Or, you don't need to build a machine learning model at all. You could develop a set of heuristics that determine what offer you should send to each customer (ie 75 percent of women customers who were 35 years old responded to offer A vs 40 percent from the same demographic to offer B, so send offer A)."
   ]
  },
  {
   "cell_type": "markdown",
   "metadata": {},
   "source": [
    "# Data Sets\n",
    "\n",
    "The data is contained in three files:\n",
    "\n",
    "* portfolio.json - containing offer ids and meta data about each offer (duration, type, etc.)\n",
    "* profile.json - demographic data for each customer\n",
    "* transcript.json - records for transactions, offers received, offers viewed, and offers completed\n",
    "\n",
    "Here is the schema and explanation of each variable in the files:\n",
    "\n",
    "**portfolio.json**\n",
    "* id (string) - offer id\n",
    "* offer_type (string) - type of offer ie BOGO, discount, informational\n",
    "* difficulty (int) - minimum required spend to complete an offer\n",
    "* reward (int) - reward given for completing an offer\n",
    "* duration (int) - \n",
    "* channels (list of strings)\n",
    "\n",
    "**profile.json**\n",
    "* age (int) - age of the customer \n",
    "* became_member_on (int) - date when customer created an app account\n",
    "* gender (str) - gender of the customer (note some entries contain 'O' for other rather than M or F)\n",
    "* id (str) - customer id\n",
    "* income (float) - customer's income\n",
    "\n",
    "**transcript.json**\n",
    "* event (str) - record description (ie transaction, offer received, offer viewed, etc.)\n",
    "* person (str) - customer id\n",
    "* time (int) - time in hours. The data begins at time t=0\n",
    "* value - (dict of strings) - either an offer id or transaction amount depending on the record\n",
    "\n",
    "**Note:** If you are using the workspace, you will need to go to the terminal and run the command `conda update pandas` before reading in the files. This is because the version of pandas in the workspace cannot read in the transcript.json file correctly, but the newest version of pandas can. You can access the termnal from the orange icon in the top left of this notebook.  \n",
    "\n",
    "You can see how to access the terminal and how the install works using the two images below.  First you need to access the terminal:\n",
    "\n",
    "<img src=\"./fig/pic1.png\"/>\n",
    "\n",
    "Then you will want to run the above command:\n",
    "\n",
    "<img src=\"./fig/pic2.png\"/>\n",
    "\n",
    "Finally, when you enter back into the notebook (use the jupyter icon again), you should be able to run the below cell without any errors."
   ]
  },
  {
   "cell_type": "code",
   "execution_count": 1,
   "metadata": {},
   "outputs": [
    {
     "name": "stderr",
     "output_type": "stream",
     "text": [
      "E:\\Anaconda3\\lib\\site-packages\\sklearn\\ensemble\\weight_boosting.py:29: DeprecationWarning: numpy.core.umath_tests is an internal NumPy module and should not be imported. It will be removed in a future NumPy release.\n",
      "  from numpy.core.umath_tests import inner1d\n"
     ]
    }
   ],
   "source": [
    "import pandas as pd\n",
    "import numpy as np\n",
    "import math\n",
    "import matplotlib.pyplot as plt\n",
    "import seaborn as sns\n",
    "import json\n",
    "import progressbar\n",
    "from datetime import datetime\n",
    "from collections import defaultdict\n",
    "\n",
    "from sklearn.model_selection import train_test_split, GridSearchCV\n",
    "from sklearn.preprocessing import StandardScaler\n",
    "from sklearn.ensemble import RandomForestClassifier\n",
    "from sklearn.svm import SVC\n",
    "from sklearn.metrics import classification_report, confusion_matrix, roc_auc_score, recall_score, f1_score\n",
    "\n",
    "% matplotlib inline\n",
    "\n",
    "# read in the json files\n",
    "portfolio = pd.read_json('data/portfolio.json', orient='records', lines=True)\n",
    "profile = pd.read_json('data/profile.json', orient='records', lines=True)\n",
    "transcript = pd.read_json('data/transcript.json', orient='records', lines=True)"
   ]
  },
  {
   "cell_type": "markdown",
   "metadata": {},
   "source": [
    "# <span id=\"0\">Purpose of the Project</span>\n",
    "\n",
    "The project aims to build **machine learning model** to predict two kind of issues, based on his/her demographic information:\n",
    "1. Is this person an offer-drive customer\n",
    "2. If 1 is yes, then which kind of offer is effective on him/her \n",
    "\n",
    "The offer type is from portfolio dataset:\n",
    "<img src=\"./fig/offer_typs.jpg\", width=\"500\", height=\"400\"/>\n",
    "\n",
    "For the first issue, a regression model will be used. The basic concept of the model will be:\n",
    "- Input:\n",
    "    - Customer details (gender, age, income)\n",
    "- Output:\n",
    "    - Offer-drive degree(0 to 1, 0 means the consumer is totally not influenced by offer or doesn't pay attention to offer while 1 means the customer is completely purchased according to offer)\n",
    "    \n",
    "For the second issue, a multi-classification will be used. The basic concept of the model will be:\n",
    "- Input:\n",
    "    - Customer details (gender, age, income)\n",
    "- Output:\n",
    "    - Effective offer type (With 0 and 1 on type to signal the effectiveness of the offer)\n",
    "\n",
    "#  Content\n",
    "#### 1. [Walk through and Clean dataset](#1)\n",
    "#### 2. [Training model](#2)\n",
    "#### 3. [Testing model](#3)\n",
    "#### 4. [Conclusion](#4)"
   ]
  },
  {
   "cell_type": "markdown",
   "metadata": {},
   "source": [
    "### <span id=\"1\">1. Walk throught and Clean dataset</span>"
   ]
  },
  {
   "cell_type": "code",
   "execution_count": 2,
   "metadata": {},
   "outputs": [
    {
     "data": {
      "text/html": [
       "<div>\n",
       "<style scoped>\n",
       "    .dataframe tbody tr th:only-of-type {\n",
       "        vertical-align: middle;\n",
       "    }\n",
       "\n",
       "    .dataframe tbody tr th {\n",
       "        vertical-align: top;\n",
       "    }\n",
       "\n",
       "    .dataframe thead th {\n",
       "        text-align: right;\n",
       "    }\n",
       "</style>\n",
       "<table border=\"1\" class=\"dataframe\">\n",
       "  <thead>\n",
       "    <tr style=\"text-align: right;\">\n",
       "      <th></th>\n",
       "      <th>channels</th>\n",
       "      <th>difficulty</th>\n",
       "      <th>duration</th>\n",
       "      <th>id</th>\n",
       "      <th>offer_type</th>\n",
       "      <th>reward</th>\n",
       "    </tr>\n",
       "  </thead>\n",
       "  <tbody>\n",
       "    <tr>\n",
       "      <th>0</th>\n",
       "      <td>[email, mobile, social]</td>\n",
       "      <td>10</td>\n",
       "      <td>7</td>\n",
       "      <td>ae264e3637204a6fb9bb56bc8210ddfd</td>\n",
       "      <td>bogo</td>\n",
       "      <td>10</td>\n",
       "    </tr>\n",
       "    <tr>\n",
       "      <th>1</th>\n",
       "      <td>[web, email, mobile, social]</td>\n",
       "      <td>10</td>\n",
       "      <td>5</td>\n",
       "      <td>4d5c57ea9a6940dd891ad53e9dbe8da0</td>\n",
       "      <td>bogo</td>\n",
       "      <td>10</td>\n",
       "    </tr>\n",
       "    <tr>\n",
       "      <th>2</th>\n",
       "      <td>[web, email, mobile]</td>\n",
       "      <td>0</td>\n",
       "      <td>4</td>\n",
       "      <td>3f207df678b143eea3cee63160fa8bed</td>\n",
       "      <td>informational</td>\n",
       "      <td>0</td>\n",
       "    </tr>\n",
       "    <tr>\n",
       "      <th>3</th>\n",
       "      <td>[web, email, mobile]</td>\n",
       "      <td>5</td>\n",
       "      <td>7</td>\n",
       "      <td>9b98b8c7a33c4b65b9aebfe6a799e6d9</td>\n",
       "      <td>bogo</td>\n",
       "      <td>5</td>\n",
       "    </tr>\n",
       "    <tr>\n",
       "      <th>4</th>\n",
       "      <td>[web, email]</td>\n",
       "      <td>20</td>\n",
       "      <td>10</td>\n",
       "      <td>0b1e1539f2cc45b7b9fa7c272da2e1d7</td>\n",
       "      <td>discount</td>\n",
       "      <td>5</td>\n",
       "    </tr>\n",
       "    <tr>\n",
       "      <th>5</th>\n",
       "      <td>[web, email, mobile, social]</td>\n",
       "      <td>7</td>\n",
       "      <td>7</td>\n",
       "      <td>2298d6c36e964ae4a3e7e9706d1fb8c2</td>\n",
       "      <td>discount</td>\n",
       "      <td>3</td>\n",
       "    </tr>\n",
       "    <tr>\n",
       "      <th>6</th>\n",
       "      <td>[web, email, mobile, social]</td>\n",
       "      <td>10</td>\n",
       "      <td>10</td>\n",
       "      <td>fafdcd668e3743c1bb461111dcafc2a4</td>\n",
       "      <td>discount</td>\n",
       "      <td>2</td>\n",
       "    </tr>\n",
       "    <tr>\n",
       "      <th>7</th>\n",
       "      <td>[email, mobile, social]</td>\n",
       "      <td>0</td>\n",
       "      <td>3</td>\n",
       "      <td>5a8bc65990b245e5a138643cd4eb9837</td>\n",
       "      <td>informational</td>\n",
       "      <td>0</td>\n",
       "    </tr>\n",
       "    <tr>\n",
       "      <th>8</th>\n",
       "      <td>[web, email, mobile, social]</td>\n",
       "      <td>5</td>\n",
       "      <td>5</td>\n",
       "      <td>f19421c1d4aa40978ebb69ca19b0e20d</td>\n",
       "      <td>bogo</td>\n",
       "      <td>5</td>\n",
       "    </tr>\n",
       "    <tr>\n",
       "      <th>9</th>\n",
       "      <td>[web, email, mobile]</td>\n",
       "      <td>10</td>\n",
       "      <td>7</td>\n",
       "      <td>2906b810c7d4411798c6938adc9daaa5</td>\n",
       "      <td>discount</td>\n",
       "      <td>2</td>\n",
       "    </tr>\n",
       "  </tbody>\n",
       "</table>\n",
       "</div>"
      ],
      "text/plain": [
       "                       channels  difficulty  duration  \\\n",
       "0       [email, mobile, social]          10         7   \n",
       "1  [web, email, mobile, social]          10         5   \n",
       "2          [web, email, mobile]           0         4   \n",
       "3          [web, email, mobile]           5         7   \n",
       "4                  [web, email]          20        10   \n",
       "5  [web, email, mobile, social]           7         7   \n",
       "6  [web, email, mobile, social]          10        10   \n",
       "7       [email, mobile, social]           0         3   \n",
       "8  [web, email, mobile, social]           5         5   \n",
       "9          [web, email, mobile]          10         7   \n",
       "\n",
       "                                 id     offer_type  reward  \n",
       "0  ae264e3637204a6fb9bb56bc8210ddfd           bogo      10  \n",
       "1  4d5c57ea9a6940dd891ad53e9dbe8da0           bogo      10  \n",
       "2  3f207df678b143eea3cee63160fa8bed  informational       0  \n",
       "3  9b98b8c7a33c4b65b9aebfe6a799e6d9           bogo       5  \n",
       "4  0b1e1539f2cc45b7b9fa7c272da2e1d7       discount       5  \n",
       "5  2298d6c36e964ae4a3e7e9706d1fb8c2       discount       3  \n",
       "6  fafdcd668e3743c1bb461111dcafc2a4       discount       2  \n",
       "7  5a8bc65990b245e5a138643cd4eb9837  informational       0  \n",
       "8  f19421c1d4aa40978ebb69ca19b0e20d           bogo       5  \n",
       "9  2906b810c7d4411798c6938adc9daaa5       discount       2  "
      ]
     },
     "execution_count": 2,
     "metadata": {},
     "output_type": "execute_result"
    }
   ],
   "source": [
    "portfolio"
   ]
  },
  {
   "cell_type": "markdown",
   "metadata": {},
   "source": [
    "The offer id is too difficult to remember.\n",
    "To keep it easy for recognize, add a new column to number each offer"
   ]
  },
  {
   "cell_type": "code",
   "execution_count": 3,
   "metadata": {
    "scrolled": true
   },
   "outputs": [
    {
     "data": {
      "text/html": [
       "<div>\n",
       "<style scoped>\n",
       "    .dataframe tbody tr th:only-of-type {\n",
       "        vertical-align: middle;\n",
       "    }\n",
       "\n",
       "    .dataframe tbody tr th {\n",
       "        vertical-align: top;\n",
       "    }\n",
       "\n",
       "    .dataframe thead th {\n",
       "        text-align: right;\n",
       "    }\n",
       "</style>\n",
       "<table border=\"1\" class=\"dataframe\">\n",
       "  <thead>\n",
       "    <tr style=\"text-align: right;\">\n",
       "      <th></th>\n",
       "      <th>age</th>\n",
       "      <th>became_member_on</th>\n",
       "      <th>gender</th>\n",
       "      <th>id</th>\n",
       "      <th>income</th>\n",
       "    </tr>\n",
       "  </thead>\n",
       "  <tbody>\n",
       "    <tr>\n",
       "      <th>0</th>\n",
       "      <td>118</td>\n",
       "      <td>20170212</td>\n",
       "      <td>None</td>\n",
       "      <td>68be06ca386d4c31939f3a4f0e3dd783</td>\n",
       "      <td>NaN</td>\n",
       "    </tr>\n",
       "    <tr>\n",
       "      <th>1</th>\n",
       "      <td>55</td>\n",
       "      <td>20170715</td>\n",
       "      <td>F</td>\n",
       "      <td>0610b486422d4921ae7d2bf64640c50b</td>\n",
       "      <td>112000.0</td>\n",
       "    </tr>\n",
       "    <tr>\n",
       "      <th>2</th>\n",
       "      <td>118</td>\n",
       "      <td>20180712</td>\n",
       "      <td>None</td>\n",
       "      <td>38fe809add3b4fcf9315a9694bb96ff5</td>\n",
       "      <td>NaN</td>\n",
       "    </tr>\n",
       "    <tr>\n",
       "      <th>3</th>\n",
       "      <td>75</td>\n",
       "      <td>20170509</td>\n",
       "      <td>F</td>\n",
       "      <td>78afa995795e4d85b5d9ceeca43f5fef</td>\n",
       "      <td>100000.0</td>\n",
       "    </tr>\n",
       "    <tr>\n",
       "      <th>4</th>\n",
       "      <td>118</td>\n",
       "      <td>20170804</td>\n",
       "      <td>None</td>\n",
       "      <td>a03223e636434f42ac4c3df47e8bac43</td>\n",
       "      <td>NaN</td>\n",
       "    </tr>\n",
       "  </tbody>\n",
       "</table>\n",
       "</div>"
      ],
      "text/plain": [
       "   age  became_member_on gender                                id    income\n",
       "0  118          20170212   None  68be06ca386d4c31939f3a4f0e3dd783       NaN\n",
       "1   55          20170715      F  0610b486422d4921ae7d2bf64640c50b  112000.0\n",
       "2  118          20180712   None  38fe809add3b4fcf9315a9694bb96ff5       NaN\n",
       "3   75          20170509      F  78afa995795e4d85b5d9ceeca43f5fef  100000.0\n",
       "4  118          20170804   None  a03223e636434f42ac4c3df47e8bac43       NaN"
      ]
     },
     "execution_count": 3,
     "metadata": {},
     "output_type": "execute_result"
    }
   ],
   "source": [
    "profile.head()"
   ]
  },
  {
   "cell_type": "code",
   "execution_count": 4,
   "metadata": {},
   "outputs": [
    {
     "data": {
      "text/plain": [
       "(17000, 5)"
      ]
     },
     "execution_count": 4,
     "metadata": {},
     "output_type": "execute_result"
    }
   ],
   "source": [
    "profile.shape"
   ]
  },
  {
   "cell_type": "code",
   "execution_count": 5,
   "metadata": {},
   "outputs": [
    {
     "data": {
      "text/plain": [
       "age                    0\n",
       "became_member_on       0\n",
       "gender              2175\n",
       "id                     0\n",
       "income              2175\n",
       "dtype: int64"
      ]
     },
     "execution_count": 5,
     "metadata": {},
     "output_type": "execute_result"
    }
   ],
   "source": [
    "# NaN value detection\n",
    "profile.isna().sum(axis=0)"
   ]
  },
  {
   "cell_type": "code",
   "execution_count": 6,
   "metadata": {
    "scrolled": false
   },
   "outputs": [
    {
     "data": {
      "text/html": [
       "<div>\n",
       "<style scoped>\n",
       "    .dataframe tbody tr th:only-of-type {\n",
       "        vertical-align: middle;\n",
       "    }\n",
       "\n",
       "    .dataframe tbody tr th {\n",
       "        vertical-align: top;\n",
       "    }\n",
       "\n",
       "    .dataframe thead th {\n",
       "        text-align: right;\n",
       "    }\n",
       "</style>\n",
       "<table border=\"1\" class=\"dataframe\">\n",
       "  <thead>\n",
       "    <tr style=\"text-align: right;\">\n",
       "      <th></th>\n",
       "      <th>age</th>\n",
       "      <th>became_member_on</th>\n",
       "      <th>income</th>\n",
       "    </tr>\n",
       "  </thead>\n",
       "  <tbody>\n",
       "    <tr>\n",
       "      <th>count</th>\n",
       "      <td>17000.000000</td>\n",
       "      <td>1.700000e+04</td>\n",
       "      <td>14825.000000</td>\n",
       "    </tr>\n",
       "    <tr>\n",
       "      <th>mean</th>\n",
       "      <td>62.531412</td>\n",
       "      <td>2.016703e+07</td>\n",
       "      <td>65404.991568</td>\n",
       "    </tr>\n",
       "    <tr>\n",
       "      <th>std</th>\n",
       "      <td>26.738580</td>\n",
       "      <td>1.167750e+04</td>\n",
       "      <td>21598.299410</td>\n",
       "    </tr>\n",
       "    <tr>\n",
       "      <th>min</th>\n",
       "      <td>18.000000</td>\n",
       "      <td>2.013073e+07</td>\n",
       "      <td>30000.000000</td>\n",
       "    </tr>\n",
       "    <tr>\n",
       "      <th>25%</th>\n",
       "      <td>45.000000</td>\n",
       "      <td>2.016053e+07</td>\n",
       "      <td>49000.000000</td>\n",
       "    </tr>\n",
       "    <tr>\n",
       "      <th>50%</th>\n",
       "      <td>58.000000</td>\n",
       "      <td>2.017080e+07</td>\n",
       "      <td>64000.000000</td>\n",
       "    </tr>\n",
       "    <tr>\n",
       "      <th>75%</th>\n",
       "      <td>73.000000</td>\n",
       "      <td>2.017123e+07</td>\n",
       "      <td>80000.000000</td>\n",
       "    </tr>\n",
       "    <tr>\n",
       "      <th>max</th>\n",
       "      <td>118.000000</td>\n",
       "      <td>2.018073e+07</td>\n",
       "      <td>120000.000000</td>\n",
       "    </tr>\n",
       "  </tbody>\n",
       "</table>\n",
       "</div>"
      ],
      "text/plain": [
       "                age  became_member_on         income\n",
       "count  17000.000000      1.700000e+04   14825.000000\n",
       "mean      62.531412      2.016703e+07   65404.991568\n",
       "std       26.738580      1.167750e+04   21598.299410\n",
       "min       18.000000      2.013073e+07   30000.000000\n",
       "25%       45.000000      2.016053e+07   49000.000000\n",
       "50%       58.000000      2.017080e+07   64000.000000\n",
       "75%       73.000000      2.017123e+07   80000.000000\n",
       "max      118.000000      2.018073e+07  120000.000000"
      ]
     },
     "execution_count": 6,
     "metadata": {},
     "output_type": "execute_result"
    }
   ],
   "source": [
    "profile.describe()"
   ]
  },
  {
   "cell_type": "code",
   "execution_count": 7,
   "metadata": {
    "scrolled": true
   },
   "outputs": [],
   "source": [
    "# Turn became_member_on data into appropriate format\n",
    "profile.became_member_on = pd.to_datetime(profile.became_member_on, format = '%Y%m%d')"
   ]
  },
  {
   "cell_type": "code",
   "execution_count": 8,
   "metadata": {
    "scrolled": false
   },
   "outputs": [
    {
     "data": {
      "image/png": "[encoded data removed]",
      "text/plain": [
       "<Figure size 432x288 with 1 Axes>"
      ]
     },
     "metadata": {
      "needs_background": "light"
     },
     "output_type": "display_data"
    }
   ],
   "source": [
    "# Age distribution\n",
    "plt.hist(profile.age, bins = 20, color = '#00A0A0');\n",
    "plt.xlabel('Age');\n",
    "plt.ylabel('Count');\n",
    "plt.title('Customer Age Distribution');"
   ]
  },
  {
   "cell_type": "markdown",
   "metadata": {},
   "source": [
    "There is quite a lot outliers in age data"
   ]
  },
  {
   "cell_type": "code",
   "execution_count": 9,
   "metadata": {
    "scrolled": true
   },
   "outputs": [
    {
     "data": {
      "text/plain": [
       "age                 2175\n",
       "became_member_on    2175\n",
       "gender                 0\n",
       "id                  2175\n",
       "income                 0\n",
       "dtype: int64"
      ]
     },
     "execution_count": 9,
     "metadata": {},
     "output_type": "execute_result"
    }
   ],
   "source": [
    "profile[profile.age == profile.age.max()].count()"
   ]
  },
  {
   "cell_type": "code",
   "execution_count": 10,
   "metadata": {
    "scrolled": true
   },
   "outputs": [
    {
     "data": {
      "text/plain": [
       "age                 14825\n",
       "became_member_on    14825\n",
       "gender              14825\n",
       "id                  14825\n",
       "income              14825\n",
       "dtype: int64"
      ]
     },
     "execution_count": 10,
     "metadata": {},
     "output_type": "execute_result"
    }
   ],
   "source": [
    "profile[profile.age < profile.age.max()].count()"
   ]
  },
  {
   "cell_type": "code",
   "execution_count": 11,
   "metadata": {},
   "outputs": [
    {
     "data": {
      "text/plain": [
       "118"
      ]
     },
     "execution_count": 11,
     "metadata": {},
     "output_type": "execute_result"
    }
   ],
   "source": [
    "profile.age.max()"
   ]
  },
  {
   "cell_type": "markdown",
   "metadata": {},
   "source": [
    "People with age at 118 seems like to be defaulted by app since all of them have no data in gender or income.\n",
    "The best way to deal is to remove them from dataset. Since our demographic machine learning can't deal with these customers in either training or testing."
   ]
  },
  {
   "cell_type": "code",
   "execution_count": 12,
   "metadata": {
    "scrolled": true
   },
   "outputs": [
    {
     "data": {
      "image/png": "[encoded data removed]",
      "text/plain": [
       "<Figure size 432x288 with 1 Axes>"
      ]
     },
     "metadata": {
      "needs_background": "light"
     },
     "output_type": "display_data"
    }
   ],
   "source": [
    "plt.hist(profile[profile.age < 118].age, bins = 20, color = '#00A0A0');\n",
    "plt.xlabel('Age');\n",
    "plt.ylabel('Count');\n",
    "plt.title('Customer Age Distribution');"
   ]
  },
  {
   "cell_type": "markdown",
   "metadata": {},
   "source": [
    "After remove outliers, the histogram seems reasonable."
   ]
  },
  {
   "cell_type": "code",
   "execution_count": 13,
   "metadata": {},
   "outputs": [],
   "source": [
    "# Remove these outliers in another dataset\n",
    "profile_remove = profile[profile.age == 118]\n",
    "profile = profile[profile.age < 118].reset_index(drop=True)"
   ]
  },
  {
   "cell_type": "code",
   "execution_count": 14,
   "metadata": {},
   "outputs": [
    {
     "data": {
      "text/plain": [
       "0"
      ]
     },
     "execution_count": 14,
     "metadata": {},
     "output_type": "execute_result"
    }
   ],
   "source": [
    "profile.duplicated().sum()"
   ]
  },
  {
   "cell_type": "code",
   "execution_count": 15,
   "metadata": {
    "scrolled": true
   },
   "outputs": [
    {
     "data": {
      "image/png": "[encoded data removed]",
      "text/plain": [
       "<Figure size 432x288 with 1 Axes>"
      ]
     },
     "metadata": {
      "needs_background": "light"
     },
     "output_type": "display_data"
    }
   ],
   "source": [
    "# Income distribution\n",
    "plt.hist(profile.income, bins = 20, color = '#00A0A0');\n",
    "plt.xlabel('Income');\n",
    "plt.ylabel('Count');\n",
    "plt.title('Customer Income Distribution');"
   ]
  },
  {
   "cell_type": "code",
   "execution_count": 16,
   "metadata": {
    "scrolled": true
   },
   "outputs": [
    {
     "data": {
      "image/png": "[encoded data removed]",
      "text/plain": [
       "<Figure size 432x288 with 1 Axes>"
      ]
     },
     "metadata": {
      "needs_background": "light"
     },
     "output_type": "display_data"
    }
   ],
   "source": [
    "# Look into gender ratio\n",
    "gender = pd.DataFrame(profile.gender.value_counts())\n",
    "plt.bar(range(gender.shape[0]), gender.values.reshape(1, -1)[0], color = '#00A0A0');\n",
    "plt.xticks(range(gender.shape[0]), gender.index);\n",
    "for i in range(gender.shape[0]):\n",
    "    plt.text(i-0.12, gender.values.reshape(1, -1)[0][i]+200, gender.values.reshape(1, -1)[0][i]);\n",
    "plt.ylim(0, 10000);\n",
    "plt.xlabel('Gender Type');\n",
    "plt.ylabel('Count');\n",
    "plt.title('Gender Type Count of Customer');"
   ]
  },
  {
   "cell_type": "code",
   "execution_count": 17,
   "metadata": {},
   "outputs": [
    {
     "data": {
      "image/png": "[encoded data removed]",
      "text/plain": [
       "<Figure size 656x216 with 3 Axes>"
      ]
     },
     "metadata": {
      "needs_background": "light"
     },
     "output_type": "display_data"
    }
   ],
   "source": [
    "# visualize the 3 factors'(age, income ,gender) relationship\n",
    "g = sns.FacetGrid(data = profile, col = 'gender');\n",
    "g.map(plt.scatter, 'age', 'income', alpha=0.3, color = '#00A0A0');\n",
    "g.add_legend();"
   ]
  },
  {
   "cell_type": "markdown",
   "metadata": {},
   "source": [
    "There seems to have some pattern of the max and min income for ages. 3 stages have been partitioned. The next step is to find what's the boundary of the age."
   ]
  },
  {
   "cell_type": "code",
   "execution_count": 18,
   "metadata": {},
   "outputs": [
    {
     "data": {
      "image/png": "[encoded data removed]",
      "text/plain": [
       "<Figure size 432x288 with 1 Axes>"
      ]
     },
     "metadata": {
      "needs_background": "light"
     },
     "output_type": "display_data"
    }
   ],
   "source": [
    "max_income_age = profile.groupby('age').max()\n",
    "min_income_age = profile.groupby('age').min()\n",
    "plt.figure(figsize = (6,4))\n",
    "plt.scatter(max_income_age.index, max_income_age.income);\n",
    "plt.scatter(min_income_age.index, min_income_age.income);\n",
    "plt.xlabel('age');\n",
    "plt.ylabel('income');\n",
    "plt.title('Max&Min Income per Age')\n",
    "plt.legend(['max income', 'min income'], bbox_to_anchor=(1.00, 0.5), loc=3);"
   ]
  },
  {
   "cell_type": "code",
   "execution_count": 19,
   "metadata": {},
   "outputs": [
    {
     "data": {
      "text/plain": [
       "[36, 48]"
      ]
     },
     "execution_count": 19,
     "metadata": {},
     "output_type": "execute_result"
    }
   ],
   "source": [
    "# find the 2 age boundary that distinguish income range\n",
    "income_leap = []\n",
    "for i in range(profile.age.min(), profile.age.max()):\n",
    "    diff = max_income_age.loc[i+1].income - max_income_age.loc[i].income\n",
    "    if diff >= 10000:\n",
    "        income_leap.append(i+1)\n",
    "    if len(income_leap) == 2:\n",
    "        break\n",
    "\n",
    "income_leap"
   ]
  },
  {
   "cell_type": "markdown",
   "metadata": {},
   "source": [
    "So it can be concluded that the age can be distributed to 3 groups: from 18 to 35, 36 to 47 and 48+.\n",
    "\n",
    "In each age group, they share similar income range. It should be presented in features."
   ]
  },
  {
   "cell_type": "code",
   "execution_count": 20,
   "metadata": {},
   "outputs": [],
   "source": [
    "profile['young'] = 0\n",
    "profile['mid_age'] = 0\n",
    "profile['aged'] = 0\n",
    "\n",
    "for i in range(profile.shape[0]):\n",
    "    if profile.loc[i, 'age'] < 36:\n",
    "        profile.loc[i, 'young'] = 1\n",
    "    elif profile.loc[i, 'age'] < 48:\n",
    "        profile.loc[i, 'mid_age'] = 1\n",
    "    else:\n",
    "        profile.loc[i, 'aged'] = 1"
   ]
  },
  {
   "cell_type": "code",
   "execution_count": 21,
   "metadata": {
    "scrolled": true
   },
   "outputs": [
    {
     "data": {
      "text/html": [
       "<div>\n",
       "<style scoped>\n",
       "    .dataframe tbody tr th:only-of-type {\n",
       "        vertical-align: middle;\n",
       "    }\n",
       "\n",
       "    .dataframe tbody tr th {\n",
       "        vertical-align: top;\n",
       "    }\n",
       "\n",
       "    .dataframe thead th {\n",
       "        text-align: right;\n",
       "    }\n",
       "</style>\n",
       "<table border=\"1\" class=\"dataframe\">\n",
       "  <thead>\n",
       "    <tr style=\"text-align: right;\">\n",
       "      <th></th>\n",
       "      <th>age</th>\n",
       "      <th>became_member_on</th>\n",
       "      <th>id</th>\n",
       "      <th>income</th>\n",
       "      <th>young</th>\n",
       "      <th>mid_age</th>\n",
       "      <th>aged</th>\n",
       "      <th>F</th>\n",
       "      <th>M</th>\n",
       "    </tr>\n",
       "  </thead>\n",
       "  <tbody>\n",
       "    <tr>\n",
       "      <th>0</th>\n",
       "      <td>55</td>\n",
       "      <td>2017-07-15</td>\n",
       "      <td>0610b486422d4921ae7d2bf64640c50b</td>\n",
       "      <td>112000.0</td>\n",
       "      <td>0</td>\n",
       "      <td>0</td>\n",
       "      <td>1</td>\n",
       "      <td>1</td>\n",
       "      <td>0</td>\n",
       "    </tr>\n",
       "    <tr>\n",
       "      <th>1</th>\n",
       "      <td>75</td>\n",
       "      <td>2017-05-09</td>\n",
       "      <td>78afa995795e4d85b5d9ceeca43f5fef</td>\n",
       "      <td>100000.0</td>\n",
       "      <td>0</td>\n",
       "      <td>0</td>\n",
       "      <td>1</td>\n",
       "      <td>1</td>\n",
       "      <td>0</td>\n",
       "    </tr>\n",
       "    <tr>\n",
       "      <th>2</th>\n",
       "      <td>68</td>\n",
       "      <td>2018-04-26</td>\n",
       "      <td>e2127556f4f64592b11af22de27a7932</td>\n",
       "      <td>70000.0</td>\n",
       "      <td>0</td>\n",
       "      <td>0</td>\n",
       "      <td>1</td>\n",
       "      <td>0</td>\n",
       "      <td>1</td>\n",
       "    </tr>\n",
       "    <tr>\n",
       "      <th>3</th>\n",
       "      <td>65</td>\n",
       "      <td>2018-02-09</td>\n",
       "      <td>389bc3fa690240e798340f5a15918d5c</td>\n",
       "      <td>53000.0</td>\n",
       "      <td>0</td>\n",
       "      <td>0</td>\n",
       "      <td>1</td>\n",
       "      <td>0</td>\n",
       "      <td>1</td>\n",
       "    </tr>\n",
       "    <tr>\n",
       "      <th>4</th>\n",
       "      <td>58</td>\n",
       "      <td>2017-11-11</td>\n",
       "      <td>2eeac8d8feae4a8cad5a6af0499a211d</td>\n",
       "      <td>51000.0</td>\n",
       "      <td>0</td>\n",
       "      <td>0</td>\n",
       "      <td>1</td>\n",
       "      <td>0</td>\n",
       "      <td>1</td>\n",
       "    </tr>\n",
       "  </tbody>\n",
       "</table>\n",
       "</div>"
      ],
      "text/plain": [
       "   age became_member_on                                id    income  young  \\\n",
       "0   55       2017-07-15  0610b486422d4921ae7d2bf64640c50b  112000.0      0   \n",
       "1   75       2017-05-09  78afa995795e4d85b5d9ceeca43f5fef  100000.0      0   \n",
       "2   68       2018-04-26  e2127556f4f64592b11af22de27a7932   70000.0      0   \n",
       "3   65       2018-02-09  389bc3fa690240e798340f5a15918d5c   53000.0      0   \n",
       "4   58       2017-11-11  2eeac8d8feae4a8cad5a6af0499a211d   51000.0      0   \n",
       "\n",
       "   mid_age  aged  F  M  \n",
       "0        0     1  1  0  \n",
       "1        0     1  1  0  \n",
       "2        0     1  0  1  \n",
       "3        0     1  0  1  \n",
       "4        0     1  0  1  "
      ]
     },
     "execution_count": 21,
     "metadata": {},
     "output_type": "execute_result"
    }
   ],
   "source": [
    "# get dummy features with gender data and drop original column\n",
    "profile = pd.concat([profile, pd.get_dummies(profile.gender).iloc[:,:-1]], axis = 1)\n",
    "profile.drop('gender', axis=1, inplace=True)\n",
    "profile.head()"
   ]
  },
  {
   "cell_type": "code",
   "execution_count": 22,
   "metadata": {
    "scrolled": true
   },
   "outputs": [
    {
     "data": {
      "text/html": [
       "<div>\n",
       "<style scoped>\n",
       "    .dataframe tbody tr th:only-of-type {\n",
       "        vertical-align: middle;\n",
       "    }\n",
       "\n",
       "    .dataframe tbody tr th {\n",
       "        vertical-align: top;\n",
       "    }\n",
       "\n",
       "    .dataframe thead th {\n",
       "        text-align: right;\n",
       "    }\n",
       "</style>\n",
       "<table border=\"1\" class=\"dataframe\">\n",
       "  <thead>\n",
       "    <tr style=\"text-align: right;\">\n",
       "      <th></th>\n",
       "      <th>event</th>\n",
       "      <th>person</th>\n",
       "      <th>time</th>\n",
       "      <th>value</th>\n",
       "    </tr>\n",
       "  </thead>\n",
       "  <tbody>\n",
       "    <tr>\n",
       "      <th>0</th>\n",
       "      <td>offer received</td>\n",
       "      <td>78afa995795e4d85b5d9ceeca43f5fef</td>\n",
       "      <td>0</td>\n",
       "      <td>{'offer id': '9b98b8c7a33c4b65b9aebfe6a799e6d9'}</td>\n",
       "    </tr>\n",
       "    <tr>\n",
       "      <th>1</th>\n",
       "      <td>offer received</td>\n",
       "      <td>a03223e636434f42ac4c3df47e8bac43</td>\n",
       "      <td>0</td>\n",
       "      <td>{'offer id': '0b1e1539f2cc45b7b9fa7c272da2e1d7'}</td>\n",
       "    </tr>\n",
       "    <tr>\n",
       "      <th>2</th>\n",
       "      <td>offer received</td>\n",
       "      <td>e2127556f4f64592b11af22de27a7932</td>\n",
       "      <td>0</td>\n",
       "      <td>{'offer id': '2906b810c7d4411798c6938adc9daaa5'}</td>\n",
       "    </tr>\n",
       "    <tr>\n",
       "      <th>3</th>\n",
       "      <td>offer received</td>\n",
       "      <td>8ec6ce2a7e7949b1bf142def7d0e0586</td>\n",
       "      <td>0</td>\n",
       "      <td>{'offer id': 'fafdcd668e3743c1bb461111dcafc2a4'}</td>\n",
       "    </tr>\n",
       "    <tr>\n",
       "      <th>4</th>\n",
       "      <td>offer received</td>\n",
       "      <td>68617ca6246f4fbc85e91a2a49552598</td>\n",
       "      <td>0</td>\n",
       "      <td>{'offer id': '4d5c57ea9a6940dd891ad53e9dbe8da0'}</td>\n",
       "    </tr>\n",
       "  </tbody>\n",
       "</table>\n",
       "</div>"
      ],
      "text/plain": [
       "            event                            person  time  \\\n",
       "0  offer received  78afa995795e4d85b5d9ceeca43f5fef     0   \n",
       "1  offer received  a03223e636434f42ac4c3df47e8bac43     0   \n",
       "2  offer received  e2127556f4f64592b11af22de27a7932     0   \n",
       "3  offer received  8ec6ce2a7e7949b1bf142def7d0e0586     0   \n",
       "4  offer received  68617ca6246f4fbc85e91a2a49552598     0   \n",
       "\n",
       "                                              value  \n",
       "0  {'offer id': '9b98b8c7a33c4b65b9aebfe6a799e6d9'}  \n",
       "1  {'offer id': '0b1e1539f2cc45b7b9fa7c272da2e1d7'}  \n",
       "2  {'offer id': '2906b810c7d4411798c6938adc9daaa5'}  \n",
       "3  {'offer id': 'fafdcd668e3743c1bb461111dcafc2a4'}  \n",
       "4  {'offer id': '4d5c57ea9a6940dd891ad53e9dbe8da0'}  "
      ]
     },
     "execution_count": 22,
     "metadata": {},
     "output_type": "execute_result"
    }
   ],
   "source": [
    "transcript.head()"
   ]
  },
  {
   "cell_type": "code",
   "execution_count": 23,
   "metadata": {
    "scrolled": true
   },
   "outputs": [
    {
     "data": {
      "text/plain": [
       "transaction        138953\n",
       "offer received      76277\n",
       "offer viewed        57725\n",
       "offer completed     33579\n",
       "Name: event, dtype: int64"
      ]
     },
     "execution_count": 23,
     "metadata": {},
     "output_type": "execute_result"
    }
   ],
   "source": [
    "transcript.event.value_counts()"
   ]
  },
  {
   "cell_type": "markdown",
   "metadata": {},
   "source": [
    "The 'value' column is a complicated dict. Simplification is needed for further analysis:\n",
    "- Rows of event is either 'offer received', 'offer viewed', or 'offer completed' rows will extract offer id in a new added column named 'offer_id'\n",
    "- Rows of event is 'transaction' will extract the amount figure and in the new 'offer_id' column leave 'NA'"
   ]
  },
  {
   "cell_type": "code",
   "execution_count": 24,
   "metadata": {},
   "outputs": [],
   "source": [
    "transcript['offer_id'] = 'NA'"
   ]
  },
  {
   "cell_type": "code",
   "execution_count": 25,
   "metadata": {},
   "outputs": [],
   "source": [
    "rec_and_view = transcript[transcript.event.isin(['offer received', 'offer viewed'])]\n",
    "complete = transcript[transcript.event == 'offer completed']\n",
    "transactions = transcript[transcript.event == 'transaction']"
   ]
  },
  {
   "cell_type": "code",
   "execution_count": 26,
   "metadata": {},
   "outputs": [
    {
     "name": "stderr",
     "output_type": "stream",
     "text": [
      "E:\\Anaconda3\\lib\\site-packages\\pandas\\core\\indexing.py:543: SettingWithCopyWarning: \n",
      "A value is trying to be set on a copy of a slice from a DataFrame.\n",
      "Try using .loc[row_indexer,col_indexer] = value instead\n",
      "\n",
      "See the caveats in the documentation: http://pandas.pydata.org/pandas-docs/stable/indexing.html#indexing-view-versus-copy\n",
      "  self.obj[item] = s\n"
     ]
    }
   ],
   "source": [
    "rec_and_view.loc[:, 'offer_id'] = rec_and_view.loc[:, 'value'].apply(lambda x: x['offer id'])\n",
    "rec_and_view.loc[:, 'value'] = 0\n",
    "complete.loc[:, 'offer_id'] = complete.loc[:, 'value'].apply(lambda x: x['offer_id'])\n",
    "complete.loc[:, 'value'] = 0\n",
    "transactions.loc[:, 'value'] = transactions.loc[:, 'value'].apply(lambda x: x['amount'])"
   ]
  },
  {
   "cell_type": "code",
   "execution_count": 27,
   "metadata": {},
   "outputs": [],
   "source": [
    "transcript = pd.concat([rec_and_view, complete, transactions])\n",
    "transcript.sort_index(inplace=True)"
   ]
  },
  {
   "cell_type": "code",
   "execution_count": 28,
   "metadata": {},
   "outputs": [
    {
     "name": "stdout",
     "output_type": "stream",
     "text": [
      "<class 'pandas.core.frame.DataFrame'>\n",
      "Int64Index: 306534 entries, 0 to 306533\n",
      "Data columns (total 5 columns):\n",
      "event       306534 non-null object\n",
      "person      306534 non-null object\n",
      "time        306534 non-null int64\n",
      "value       306534 non-null float64\n",
      "offer_id    306534 non-null object\n",
      "dtypes: float64(1), int64(1), object(3)\n",
      "memory usage: 14.0+ MB\n"
     ]
    }
   ],
   "source": [
    "transcript.info()"
   ]
  },
  {
   "cell_type": "markdown",
   "metadata": {},
   "source": [
    "The next step is to combine the profile and transcript into one table.\n",
    "\n",
    "The procedure of the cleaning would be:\n",
    "1. Create a new dataframe. The column includes each offer type, 'amount_with_offer'(transaction made under influence of offer),  'amount_without_offer'(transaction made with no influence of offer) and 'trams_times'(how many times transaction happened in transcript period). The index is profile's personal id\n",
    "2. Iterate through the id in profile\n",
    "3. Use person_trans_recs() to pull everyone's personal transaction record\n",
    "4. Set 1 to the related column, once there is an offer received, offer viewed and offer completed for the same offer with type BOGO or discount\n",
    "5. Set -1 to the related column, if all offers received, offer viewed are not completed at the end for the same offer with type BOGO or discount\n",
    "6. Set 1 to the related column, once there is an offer received, offer viewed and transaction happened within valid period of an offer with offer type informational\n",
    "7. Set -1 to the related column, if all offer received, offer viewed and no transaction happened within valid period of an offer with offer type informational\n",
    "8. Transaction amount made for 4 and 5 will be added to 'amount_with_offer'\n",
    "9. Other transaction amount will be added to 'amount_without_offer'\n",
    "10. A new column named 'offer_drive_tendency' will be added using(plus 0.001 incase both amount number is zero): $ offer\\_drive\\_tendency = \\frac{amount\\_with\\_offer}{amount\\_with\\_offer+amount\\_without\\_offer+0.001}$\n",
    "11. 2 new columns will be added to profile_trans:\n",
    "    - 'tot_amount', sum of 'amount_with_offer' and 'amount_without_offer'\n",
    "    - 'avg_amount', average amount calculated from 'tot_amount' divided by 'trans_times'\n",
    "12. Combine the new dataframe with profile on the person id key"
   ]
  },
  {
   "cell_type": "code",
   "execution_count": 51,
   "metadata": {},
   "outputs": [],
   "source": [
    "# step 1\n",
    "cols = portfolio.id.values\n",
    "profile_trans = pd.DataFrame(np.nan, index = profile.id.values, columns = cols)"
   ]
  },
  {
   "cell_type": "code",
   "execution_count": 52,
   "metadata": {
    "scrolled": false
   },
   "outputs": [
    {
     "data": {
      "text/html": [
       "<div>\n",
       "<style scoped>\n",
       "    .dataframe tbody tr th:only-of-type {\n",
       "        vertical-align: middle;\n",
       "    }\n",
       "\n",
       "    .dataframe tbody tr th {\n",
       "        vertical-align: top;\n",
       "    }\n",
       "\n",
       "    .dataframe thead th {\n",
       "        text-align: right;\n",
       "    }\n",
       "</style>\n",
       "<table border=\"1\" class=\"dataframe\">\n",
       "  <thead>\n",
       "    <tr style=\"text-align: right;\">\n",
       "      <th></th>\n",
       "      <th>ae264e3637204a6fb9bb56bc8210ddfd</th>\n",
       "      <th>4d5c57ea9a6940dd891ad53e9dbe8da0</th>\n",
       "      <th>3f207df678b143eea3cee63160fa8bed</th>\n",
       "      <th>9b98b8c7a33c4b65b9aebfe6a799e6d9</th>\n",
       "      <th>0b1e1539f2cc45b7b9fa7c272da2e1d7</th>\n",
       "      <th>2298d6c36e964ae4a3e7e9706d1fb8c2</th>\n",
       "      <th>fafdcd668e3743c1bb461111dcafc2a4</th>\n",
       "      <th>5a8bc65990b245e5a138643cd4eb9837</th>\n",
       "      <th>f19421c1d4aa40978ebb69ca19b0e20d</th>\n",
       "      <th>2906b810c7d4411798c6938adc9daaa5</th>\n",
       "    </tr>\n",
       "  </thead>\n",
       "  <tbody>\n",
       "    <tr>\n",
       "      <th>0610b486422d4921ae7d2bf64640c50b</th>\n",
       "      <td>NaN</td>\n",
       "      <td>NaN</td>\n",
       "      <td>NaN</td>\n",
       "      <td>NaN</td>\n",
       "      <td>NaN</td>\n",
       "      <td>NaN</td>\n",
       "      <td>NaN</td>\n",
       "      <td>NaN</td>\n",
       "      <td>NaN</td>\n",
       "      <td>NaN</td>\n",
       "    </tr>\n",
       "    <tr>\n",
       "      <th>78afa995795e4d85b5d9ceeca43f5fef</th>\n",
       "      <td>NaN</td>\n",
       "      <td>NaN</td>\n",
       "      <td>NaN</td>\n",
       "      <td>NaN</td>\n",
       "      <td>NaN</td>\n",
       "      <td>NaN</td>\n",
       "      <td>NaN</td>\n",
       "      <td>NaN</td>\n",
       "      <td>NaN</td>\n",
       "      <td>NaN</td>\n",
       "    </tr>\n",
       "    <tr>\n",
       "      <th>e2127556f4f64592b11af22de27a7932</th>\n",
       "      <td>NaN</td>\n",
       "      <td>NaN</td>\n",
       "      <td>NaN</td>\n",
       "      <td>NaN</td>\n",
       "      <td>NaN</td>\n",
       "      <td>NaN</td>\n",
       "      <td>NaN</td>\n",
       "      <td>NaN</td>\n",
       "      <td>NaN</td>\n",
       "      <td>NaN</td>\n",
       "    </tr>\n",
       "    <tr>\n",
       "      <th>389bc3fa690240e798340f5a15918d5c</th>\n",
       "      <td>NaN</td>\n",
       "      <td>NaN</td>\n",
       "      <td>NaN</td>\n",
       "      <td>NaN</td>\n",
       "      <td>NaN</td>\n",
       "      <td>NaN</td>\n",
       "      <td>NaN</td>\n",
       "      <td>NaN</td>\n",
       "      <td>NaN</td>\n",
       "      <td>NaN</td>\n",
       "    </tr>\n",
       "    <tr>\n",
       "      <th>2eeac8d8feae4a8cad5a6af0499a211d</th>\n",
       "      <td>NaN</td>\n",
       "      <td>NaN</td>\n",
       "      <td>NaN</td>\n",
       "      <td>NaN</td>\n",
       "      <td>NaN</td>\n",
       "      <td>NaN</td>\n",
       "      <td>NaN</td>\n",
       "      <td>NaN</td>\n",
       "      <td>NaN</td>\n",
       "      <td>NaN</td>\n",
       "    </tr>\n",
       "  </tbody>\n",
       "</table>\n",
       "</div>"
      ],
      "text/plain": [
       "                                  ae264e3637204a6fb9bb56bc8210ddfd  \\\n",
       "0610b486422d4921ae7d2bf64640c50b                               NaN   \n",
       "78afa995795e4d85b5d9ceeca43f5fef                               NaN   \n",
       "e2127556f4f64592b11af22de27a7932                               NaN   \n",
       "389bc3fa690240e798340f5a15918d5c                               NaN   \n",
       "2eeac8d8feae4a8cad5a6af0499a211d                               NaN   \n",
       "\n",
       "                                  4d5c57ea9a6940dd891ad53e9dbe8da0  \\\n",
       "0610b486422d4921ae7d2bf64640c50b                               NaN   \n",
       "78afa995795e4d85b5d9ceeca43f5fef                               NaN   \n",
       "e2127556f4f64592b11af22de27a7932                               NaN   \n",
       "389bc3fa690240e798340f5a15918d5c                               NaN   \n",
       "2eeac8d8feae4a8cad5a6af0499a211d                               NaN   \n",
       "\n",
       "                                  3f207df678b143eea3cee63160fa8bed  \\\n",
       "0610b486422d4921ae7d2bf64640c50b                               NaN   \n",
       "78afa995795e4d85b5d9ceeca43f5fef                               NaN   \n",
       "e2127556f4f64592b11af22de27a7932                               NaN   \n",
       "389bc3fa690240e798340f5a15918d5c                               NaN   \n",
       "2eeac8d8feae4a8cad5a6af0499a211d                               NaN   \n",
       "\n",
       "                                  9b98b8c7a33c4b65b9aebfe6a799e6d9  \\\n",
       "0610b486422d4921ae7d2bf64640c50b                               NaN   \n",
       "78afa995795e4d85b5d9ceeca43f5fef                               NaN   \n",
       "e2127556f4f64592b11af22de27a7932                               NaN   \n",
       "389bc3fa690240e798340f5a15918d5c                               NaN   \n",
       "2eeac8d8feae4a8cad5a6af0499a211d                               NaN   \n",
       "\n",
       "                                  0b1e1539f2cc45b7b9fa7c272da2e1d7  \\\n",
       "0610b486422d4921ae7d2bf64640c50b                               NaN   \n",
       "78afa995795e4d85b5d9ceeca43f5fef                               NaN   \n",
       "e2127556f4f64592b11af22de27a7932                               NaN   \n",
       "389bc3fa690240e798340f5a15918d5c                               NaN   \n",
       "2eeac8d8feae4a8cad5a6af0499a211d                               NaN   \n",
       "\n",
       "                                  2298d6c36e964ae4a3e7e9706d1fb8c2  \\\n",
       "0610b486422d4921ae7d2bf64640c50b                               NaN   \n",
       "78afa995795e4d85b5d9ceeca43f5fef                               NaN   \n",
       "e2127556f4f64592b11af22de27a7932                               NaN   \n",
       "389bc3fa690240e798340f5a15918d5c                               NaN   \n",
       "2eeac8d8feae4a8cad5a6af0499a211d                               NaN   \n",
       "\n",
       "                                  fafdcd668e3743c1bb461111dcafc2a4  \\\n",
       "0610b486422d4921ae7d2bf64640c50b                               NaN   \n",
       "78afa995795e4d85b5d9ceeca43f5fef                               NaN   \n",
       "e2127556f4f64592b11af22de27a7932                               NaN   \n",
       "389bc3fa690240e798340f5a15918d5c                               NaN   \n",
       "2eeac8d8feae4a8cad5a6af0499a211d                               NaN   \n",
       "\n",
       "                                  5a8bc65990b245e5a138643cd4eb9837  \\\n",
       "0610b486422d4921ae7d2bf64640c50b                               NaN   \n",
       "78afa995795e4d85b5d9ceeca43f5fef                               NaN   \n",
       "e2127556f4f64592b11af22de27a7932                               NaN   \n",
       "389bc3fa690240e798340f5a15918d5c                               NaN   \n",
       "2eeac8d8feae4a8cad5a6af0499a211d                               NaN   \n",
       "\n",
       "                                  f19421c1d4aa40978ebb69ca19b0e20d  \\\n",
       "0610b486422d4921ae7d2bf64640c50b                               NaN   \n",
       "78afa995795e4d85b5d9ceeca43f5fef                               NaN   \n",
       "e2127556f4f64592b11af22de27a7932                               NaN   \n",
       "389bc3fa690240e798340f5a15918d5c                               NaN   \n",
       "2eeac8d8feae4a8cad5a6af0499a211d                               NaN   \n",
       "\n",
       "                                  2906b810c7d4411798c6938adc9daaa5  \n",
       "0610b486422d4921ae7d2bf64640c50b                               NaN  \n",
       "78afa995795e4d85b5d9ceeca43f5fef                               NaN  \n",
       "e2127556f4f64592b11af22de27a7932                               NaN  \n",
       "389bc3fa690240e798340f5a15918d5c                               NaN  \n",
       "2eeac8d8feae4a8cad5a6af0499a211d                               NaN  "
      ]
     },
     "execution_count": 52,
     "metadata": {},
     "output_type": "execute_result"
    }
   ],
   "source": [
    "profile_trans.head()"
   ]
  },
  {
   "cell_type": "code",
   "execution_count": 53,
   "metadata": {},
   "outputs": [],
   "source": [
    "# pull offer id related with type to further deal with step 4 and step 5\n",
    "bogo_disc_offer_ids = portfolio[portfolio.offer_type.isin(['bogo', 'discount'])].id.values"
   ]
  },
  {
   "cell_type": "code",
   "execution_count": 54,
   "metadata": {},
   "outputs": [],
   "source": [
    "def timer(start_time=None):\n",
    "    '''print time consumed for the progress\n",
    "    INPUT:\n",
    "        start_time: local date and time at the progress begin, default is None\n",
    "    \n",
    "    OUTPUT:\n",
    "        start_time: If INPUT is None, local date time will be recorded as the start time\n",
    "    '''\n",
    "    if not start_time:\n",
    "        start_time = datetime.now()\n",
    "        return start_time\n",
    "    elif start_time:\n",
    "        thour, temp_sec = divmod((datetime.now() - start_time).total_seconds(), 3600)\n",
    "        tmin, tsec = divmod(temp_sec, 60)\n",
    "        print(f'\\n Time taken: {thour} hours {tmin} minutes and {round(tsec, 2)} seconds.')"
   ]
  },
  {
   "cell_type": "code",
   "execution_count": 57,
   "metadata": {
    "scrolled": true
   },
   "outputs": [],
   "source": [
    "# function to pull each customer's transcripts\n",
    "def get_trans_recs(customer_id):\n",
    "    '''get personal transaction records in transcript data with personal id from profile data\n",
    "    INPUT:\n",
    "        customer_id(str): id from profile id\n",
    "    \n",
    "    OUTPUT:\n",
    "        trans_recs(DataFrame): Personal transaction record\n",
    "    '''\n",
    "    trans_recs = transcript[transcript.person == customer_id].reset_index(drop=True)\n",
    "    return trans_recs\n",
    "\n",
    "def get_offer_progress(trans_recs, view_ind, portfolio=portfolio):\n",
    "    '''get the complete producure of an offer if viewed in customer's transcript record\n",
    "    INPUT:\n",
    "        trans_recs(DataFrame) - transcript record of particular customer\n",
    "        view_ind(int) - the index in the trans_recs of where the event 'offer viewed' occur\n",
    "        portfolio(DataFrame) - portfolio of customers\n",
    "        \n",
    "    OUTPUT:\n",
    "        off_id{str} - offer id\n",
    "        off_start(int) - the time offer received\n",
    "        view_start(int) - the time offer viewed\n",
    "        off_end(int) - the time offer expires\n",
    "    '''\n",
    "    \n",
    "        \n",
    "    return off_id, off_start, view_start, off_end      "
   ]
  },
  {
   "cell_type": "code",
   "execution_count": 60,
   "metadata": {
    "scrolled": false
   },
   "outputs": [
    {
     "name": "stderr",
     "output_type": "stream",
     "text": [
      "[=========================================================================]100%\r"
     ]
    },
    {
     "name": "stdout",
     "output_type": "stream",
     "text": [
      "\n",
      " Time taken: 0.0 hours 13.0 minutes and 58.94 seconds.\n"
     ]
    },
    {
     "name": "stderr",
     "output_type": "stream",
     "text": [
      "\n"
     ]
    }
   ],
   "source": [
    "# set up a progress bar\n",
    "start_time = timer()\n",
    "\n",
    "cnter = 0\n",
    "pbar = progressbar.ProgressBar(maxval=profile_trans.shape[0], widgets=[progressbar.Bar('=', '[', ']'), progressbar.Percentage()])\n",
    "pbar.start()\n",
    "\n",
    "# step 2\n",
    "for cus_ind in range(profile_trans.shape[0]):      \n",
    "    # update progress bar\n",
    "    cnter+=1 \n",
    "    pbar.update(cnter)\n",
    "    \n",
    "    # step 3 to 7\n",
    "    cus_id = profile_trans.index[cus_ind]\n",
    "    trans_recs = get_trans_recs(cus_id) # pull his/her transcripts\n",
    "    off_view_times = defaultdict(int)\n",
    "    view_idx = trans_recs[trans_recs.event == 'offer viewed'].index.values # save all offer view event index\n",
    "        \n",
    "    if len(view_idx) > 0: # customer has noticed offer\n",
    "        for view_ind in view_idx:\n",
    "            off_id = trans_recs.loc[view_ind, 'offer_id'] # store the viewed offer id\n",
    "            off_hour = int(portfolio[portfolio.id == off_id].duration) * 24 # offer duration hour\n",
    "            view_start = trans_recs.loc[view_ind, 'time'] # the time customer notice the offer\n",
    "\n",
    "            receive_row = trans_recs[(trans_recs.offer_id == off_id) & \n",
    "                                    (trans_recs.event == 'offer received') & \n",
    "                                    (trans_recs.time >= (view_start - off_hour)) & \n",
    "                                    (trans_recs.time <= view_start)] # get the offer receive index\n",
    "\n",
    "            if receive_row.shape[0] > 0: # view time is within the duration of the offer\n",
    "                receive_ind = receive_row.index[0]\n",
    "                off_start = trans_recs.loc[receive_ind, 'time']\n",
    "                off_end = off_start + off_hour\n",
    "            \n",
    "                profile_trans.loc[cus_id, off_id] = 0 \n",
    "                # The offer has been viewed by the customer in the duration, so it has a valid result\n",
    "                off_view_times[off_id] += 1\n",
    "\n",
    "                if off_id in bogo_disc_offer_ids: # BOGO or discount case\n",
    "                    try:\n",
    "                        comp_ind = trans_recs[(trans_recs.offer_id == off_id) & \n",
    "                                            (trans_recs.event == 'offer completed') & \n",
    "                                            (trans_recs.time >= view_start) & \n",
    "                                            (trans_recs.time <= off_end)].index[0] # get the offer complete index\n",
    "\n",
    "                        profile_trans.loc[cus_id, off_id] += 1 # viewed and completed the offer\n",
    "                    except:\n",
    "                        profile_trans.loc[cus_id, off_id] += 0 # viewed and not completed offer\n",
    "\n",
    "                else: # Informational case\n",
    "                    info_trans_idx = trans_recs[(trans_recs.time >= view_start) & \n",
    "                                                (trans_recs.time <= off_end) & \n",
    "                                                (trans_recs.event == 'transaction')].index.values\n",
    "\n",
    "                    if len(info_trans_idx) > 0:\n",
    "                         profile_trans.loc[cus_id, off_id] += 1 # viewed and made transaction during the period                       \n",
    "                    else:\n",
    "                        profile_trans.loc[cus_id, off_id] += 0 # viewed and made no transaction during the period\n",
    "            \n",
    "    for i in off_view_times.keys():\n",
    "        # calculate effective rate of the offer on that customer\n",
    "        profile_trans.loc[cus_id, i] = round(profile_trans.loc[cus_id, i] / off_view_times[i], 2)\n",
    "        \n",
    "\n",
    "pbar.finish()\n",
    "timer(start_time)"
   ]
  },
  {
   "cell_type": "code",
   "execution_count": 61,
   "metadata": {},
   "outputs": [],
   "source": [
    "#For further study, the offer id will be substituted by offer_no \n",
    "profile_trans.to_csv('profile_trans_1.csv')"
   ]
  },
  {
   "cell_type": "code",
   "execution_count": 62,
   "metadata": {},
   "outputs": [],
   "source": [
    "profile_trans = pd.read_csv('profile_trans_1.csv', index_col = 'Unnamed: 0')"
   ]
  },
  {
   "cell_type": "code",
   "execution_count": 63,
   "metadata": {
    "scrolled": false
   },
   "outputs": [
    {
     "data": {
      "text/html": [
       "<div>\n",
       "<style scoped>\n",
       "    .dataframe tbody tr th:only-of-type {\n",
       "        vertical-align: middle;\n",
       "    }\n",
       "\n",
       "    .dataframe tbody tr th {\n",
       "        vertical-align: top;\n",
       "    }\n",
       "\n",
       "    .dataframe thead th {\n",
       "        text-align: right;\n",
       "    }\n",
       "</style>\n",
       "<table border=\"1\" class=\"dataframe\">\n",
       "  <thead>\n",
       "    <tr style=\"text-align: right;\">\n",
       "      <th></th>\n",
       "      <th>ae264e3637204a6fb9bb56bc8210ddfd</th>\n",
       "      <th>4d5c57ea9a6940dd891ad53e9dbe8da0</th>\n",
       "      <th>3f207df678b143eea3cee63160fa8bed</th>\n",
       "      <th>9b98b8c7a33c4b65b9aebfe6a799e6d9</th>\n",
       "      <th>0b1e1539f2cc45b7b9fa7c272da2e1d7</th>\n",
       "      <th>2298d6c36e964ae4a3e7e9706d1fb8c2</th>\n",
       "      <th>fafdcd668e3743c1bb461111dcafc2a4</th>\n",
       "      <th>5a8bc65990b245e5a138643cd4eb9837</th>\n",
       "      <th>f19421c1d4aa40978ebb69ca19b0e20d</th>\n",
       "      <th>2906b810c7d4411798c6938adc9daaa5</th>\n",
       "    </tr>\n",
       "  </thead>\n",
       "  <tbody>\n",
       "    <tr>\n",
       "      <th>0610b486422d4921ae7d2bf64640c50b</th>\n",
       "      <td>NaN</td>\n",
       "      <td>NaN</td>\n",
       "      <td>NaN</td>\n",
       "      <td>NaN</td>\n",
       "      <td>NaN</td>\n",
       "      <td>NaN</td>\n",
       "      <td>NaN</td>\n",
       "      <td>NaN</td>\n",
       "      <td>NaN</td>\n",
       "      <td>NaN</td>\n",
       "    </tr>\n",
       "    <tr>\n",
       "      <th>78afa995795e4d85b5d9ceeca43f5fef</th>\n",
       "      <td>1.0</td>\n",
       "      <td>NaN</td>\n",
       "      <td>NaN</td>\n",
       "      <td>1.0</td>\n",
       "      <td>NaN</td>\n",
       "      <td>NaN</td>\n",
       "      <td>NaN</td>\n",
       "      <td>1.0</td>\n",
       "      <td>0.0</td>\n",
       "      <td>NaN</td>\n",
       "    </tr>\n",
       "    <tr>\n",
       "      <th>e2127556f4f64592b11af22de27a7932</th>\n",
       "      <td>NaN</td>\n",
       "      <td>NaN</td>\n",
       "      <td>NaN</td>\n",
       "      <td>1.0</td>\n",
       "      <td>NaN</td>\n",
       "      <td>NaN</td>\n",
       "      <td>1.0</td>\n",
       "      <td>NaN</td>\n",
       "      <td>NaN</td>\n",
       "      <td>0.0</td>\n",
       "    </tr>\n",
       "    <tr>\n",
       "      <th>389bc3fa690240e798340f5a15918d5c</th>\n",
       "      <td>NaN</td>\n",
       "      <td>NaN</td>\n",
       "      <td>NaN</td>\n",
       "      <td>0.5</td>\n",
       "      <td>NaN</td>\n",
       "      <td>NaN</td>\n",
       "      <td>1.0</td>\n",
       "      <td>NaN</td>\n",
       "      <td>0.5</td>\n",
       "      <td>1.0</td>\n",
       "    </tr>\n",
       "    <tr>\n",
       "      <th>2eeac8d8feae4a8cad5a6af0499a211d</th>\n",
       "      <td>NaN</td>\n",
       "      <td>NaN</td>\n",
       "      <td>NaN</td>\n",
       "      <td>NaN</td>\n",
       "      <td>NaN</td>\n",
       "      <td>0.0</td>\n",
       "      <td>1.0</td>\n",
       "      <td>NaN</td>\n",
       "      <td>NaN</td>\n",
       "      <td>NaN</td>\n",
       "    </tr>\n",
       "  </tbody>\n",
       "</table>\n",
       "</div>"
      ],
      "text/plain": [
       "                                  ae264e3637204a6fb9bb56bc8210ddfd  \\\n",
       "0610b486422d4921ae7d2bf64640c50b                               NaN   \n",
       "78afa995795e4d85b5d9ceeca43f5fef                               1.0   \n",
       "e2127556f4f64592b11af22de27a7932                               NaN   \n",
       "389bc3fa690240e798340f5a15918d5c                               NaN   \n",
       "2eeac8d8feae4a8cad5a6af0499a211d                               NaN   \n",
       "\n",
       "                                  4d5c57ea9a6940dd891ad53e9dbe8da0  \\\n",
       "0610b486422d4921ae7d2bf64640c50b                               NaN   \n",
       "78afa995795e4d85b5d9ceeca43f5fef                               NaN   \n",
       "e2127556f4f64592b11af22de27a7932                               NaN   \n",
       "389bc3fa690240e798340f5a15918d5c                               NaN   \n",
       "2eeac8d8feae4a8cad5a6af0499a211d                               NaN   \n",
       "\n",
       "                                  3f207df678b143eea3cee63160fa8bed  \\\n",
       "0610b486422d4921ae7d2bf64640c50b                               NaN   \n",
       "78afa995795e4d85b5d9ceeca43f5fef                               NaN   \n",
       "e2127556f4f64592b11af22de27a7932                               NaN   \n",
       "389bc3fa690240e798340f5a15918d5c                               NaN   \n",
       "2eeac8d8feae4a8cad5a6af0499a211d                               NaN   \n",
       "\n",
       "                                  9b98b8c7a33c4b65b9aebfe6a799e6d9  \\\n",
       "0610b486422d4921ae7d2bf64640c50b                               NaN   \n",
       "78afa995795e4d85b5d9ceeca43f5fef                               1.0   \n",
       "e2127556f4f64592b11af22de27a7932                               1.0   \n",
       "389bc3fa690240e798340f5a15918d5c                               0.5   \n",
       "2eeac8d8feae4a8cad5a6af0499a211d                               NaN   \n",
       "\n",
       "                                  0b1e1539f2cc45b7b9fa7c272da2e1d7  \\\n",
       "0610b486422d4921ae7d2bf64640c50b                               NaN   \n",
       "78afa995795e4d85b5d9ceeca43f5fef                               NaN   \n",
       "e2127556f4f64592b11af22de27a7932                               NaN   \n",
       "389bc3fa690240e798340f5a15918d5c                               NaN   \n",
       "2eeac8d8feae4a8cad5a6af0499a211d                               NaN   \n",
       "\n",
       "                                  2298d6c36e964ae4a3e7e9706d1fb8c2  \\\n",
       "0610b486422d4921ae7d2bf64640c50b                               NaN   \n",
       "78afa995795e4d85b5d9ceeca43f5fef                               NaN   \n",
       "e2127556f4f64592b11af22de27a7932                               NaN   \n",
       "389bc3fa690240e798340f5a15918d5c                               NaN   \n",
       "2eeac8d8feae4a8cad5a6af0499a211d                               0.0   \n",
       "\n",
       "                                  fafdcd668e3743c1bb461111dcafc2a4  \\\n",
       "0610b486422d4921ae7d2bf64640c50b                               NaN   \n",
       "78afa995795e4d85b5d9ceeca43f5fef                               NaN   \n",
       "e2127556f4f64592b11af22de27a7932                               1.0   \n",
       "389bc3fa690240e798340f5a15918d5c                               1.0   \n",
       "2eeac8d8feae4a8cad5a6af0499a211d                               1.0   \n",
       "\n",
       "                                  5a8bc65990b245e5a138643cd4eb9837  \\\n",
       "0610b486422d4921ae7d2bf64640c50b                               NaN   \n",
       "78afa995795e4d85b5d9ceeca43f5fef                               1.0   \n",
       "e2127556f4f64592b11af22de27a7932                               NaN   \n",
       "389bc3fa690240e798340f5a15918d5c                               NaN   \n",
       "2eeac8d8feae4a8cad5a6af0499a211d                               NaN   \n",
       "\n",
       "                                  f19421c1d4aa40978ebb69ca19b0e20d  \\\n",
       "0610b486422d4921ae7d2bf64640c50b                               NaN   \n",
       "78afa995795e4d85b5d9ceeca43f5fef                               0.0   \n",
       "e2127556f4f64592b11af22de27a7932                               NaN   \n",
       "389bc3fa690240e798340f5a15918d5c                               0.5   \n",
       "2eeac8d8feae4a8cad5a6af0499a211d                               NaN   \n",
       "\n",
       "                                  2906b810c7d4411798c6938adc9daaa5  \n",
       "0610b486422d4921ae7d2bf64640c50b                               NaN  \n",
       "78afa995795e4d85b5d9ceeca43f5fef                               NaN  \n",
       "e2127556f4f64592b11af22de27a7932                               0.0  \n",
       "389bc3fa690240e798340f5a15918d5c                               1.0  \n",
       "2eeac8d8feae4a8cad5a6af0499a211d                               NaN  "
      ]
     },
     "execution_count": 63,
     "metadata": {},
     "output_type": "execute_result"
    }
   ],
   "source": [
    "profile_trans.head()"
   ]
  },
  {
   "cell_type": "markdown",
   "metadata": {},
   "source": [
    "As the offer has some similarity, it can be found some offer is just the duration extent versio of other.\n",
    "It can be inferred that if a customer can finish the offer in a shorter duration, he can also complete it with a wider duration.\n",
    "So if some type offer has an 1 in profile_trans, it will also reasonable to get 1 with its duration extent version or easier version.\n",
    "On contrast, If a duration extent offer is neglected by customer, the base or harder difficulty offer will also be discarded.\n",
    "\n",
    "|No.|Type| id | difficulty|reward|duration(days)|note|\n",
    "|----|----|----|----|----|---|---|\n",
    "|01|BOGO|ae264e3637204a6fb9bb56bc8210ddfd|10|10|7|02 duration extension|\n",
    "|02|BOGO|4d5c57ea9a6940dd891ad53e9dbe8da0|10|10|5|No|\n",
    "|03|BOGO|9b98b8c7a33c4b65b9aebfe6a799e6d9|5|5|7|04 duration extension|\n",
    "|04|BOGO|f19421c1d4aa40978ebb69ca19b0e20d|5|5|7|No|\n",
    "|05|DISCOUNT|0b1e1539f2cc45b7b9fa7c272da2e1d7|20|5|10|No|\n",
    "|06|DISCOUNT|fafdcd668e3743c1bb461111dcafc2a4|10|2|10|07 duration extension|\n",
    "|07|DISCOUNT|2906b810c7d4411798c6938adc9daaa5|10|2|7|No|\n",
    "|08|DISCOUNT|2298d6c36e964ae4a3e7e9706d1fb8c2|7|3|7|easier than 07 with better reward|\n",
    "|09|INFORMATIONAL|3f207df678b143eea3cee63160fa8bed|0|0|4|10 duration extension|\n",
    "|10|INFORMATIONAL|5a8bc65990b245e5a138643cd4eb9837|0|0|3|No|\n",
    "\n",
    "The next process of the profile_trans is:\n",
    "- p_1: if a customer in no.2 offer is 1 and no.1 is nan, set to 1\n",
    "- p_2: if a customer in no.4 offer is 1 and no.3 is nan, set to 1\n",
    "- p_3: if a customer in no.7 offer is 1 and either of no.6 or no.8 is nan, set to 1\n",
    "- p_4: if a customer in no.10 offer is 1 and no.9 is nan, set to 1\n",
    "- p_5: if a customer in no.1 offer is 0 and no.2 is nan, set to 0\n",
    "- p_6: if a customer in no.3 offer is 0 and no.4 is nan, set to 0\n",
    "- p_7: if a customer either no.6 or no.8 offer is 0 and no.7 is nan, set to 0\n",
    "- p_8: if a customer in no.9 offer is 0 and no.10 is nan, set to 0"
   ]
  },
  {
   "cell_type": "code",
   "execution_count": 82,
   "metadata": {},
   "outputs": [],
   "source": [
    "p_1 = profile_trans[(profile_trans.loc[:,'ae264e3637204a6fb9bb56bc8210ddfd'].isna()) &\n",
    "        (profile_trans.loc[:,'4d5c57ea9a6940dd891ad53e9dbe8da0']==1)].index\n",
    "p_2 = profile_trans[(profile_trans.loc[:,'f19421c1d4aa40978ebb69ca19b0e20d'].isna()) &\n",
    "        (profile_trans.loc[:,'9b98b8c7a33c4b65b9aebfe6a799e6d9']==1)].index\n",
    "p_3_1 = profile_trans[(profile_trans.loc[:,'fafdcd668e3743c1bb461111dcafc2a4'].isna()) &\n",
    "        (profile_trans.loc[:,'2906b810c7d4411798c6938adc9daaa5']==1)].index\n",
    "p_3_2 = profile_trans[(profile_trans.loc[:,'2298d6c36e964ae4a3e7e9706d1fb8c2'].isna()) &\n",
    "        (profile_trans.loc[:,'2906b810c7d4411798c6938adc9daaa5']==1)].index\n",
    "p_4 = profile_trans[(profile_trans.loc[:,'3f207df678b143eea3cee63160fa8bed'].isna()) &\n",
    "        (profile_trans.loc[:,'5a8bc65990b245e5a138643cd4eb9837']==1)].index\n",
    "p_5 = profile_trans[(profile_trans.loc[:,'ae264e3637204a6fb9bb56bc8210ddfd']==0) &\n",
    "        (profile_trans.loc[:,'4d5c57ea9a6940dd891ad53e9dbe8da0'].isna())].index\n",
    "p_6 = profile_trans[(profile_trans.loc[:,'f19421c1d4aa40978ebb69ca19b0e20d']==0) &\n",
    "        (profile_trans.loc[:,'9b98b8c7a33c4b65b9aebfe6a799e6d9'].isna())].index\n",
    "p_7_1 = profile_trans[(profile_trans.loc[:,'fafdcd668e3743c1bb461111dcafc2a4']==0) &\n",
    "        (profile_trans.loc[:,'2906b810c7d4411798c6938adc9daaa5'].isna())].index\n",
    "p_7_2 = profile_trans[(profile_trans.loc[:,'2298d6c36e964ae4a3e7e9706d1fb8c2']==0) &\n",
    "        (profile_trans.loc[:,'2906b810c7d4411798c6938adc9daaa5'].isna())].index\n",
    "p_8 = profile_trans[(profile_trans.loc[:,'3f207df678b143eea3cee63160fa8bed']==0) &\n",
    "        (profile_trans.loc[:,'5a8bc65990b245e5a138643cd4eb9837'].isna())].index"
   ]
  },
  {
   "cell_type": "code",
   "execution_count": 83,
   "metadata": {},
   "outputs": [],
   "source": [
    "profile_trans.loc[p_1,'ae264e3637204a6fb9bb56bc8210ddfd'] = 1\n",
    "profile_trans.loc[p_2,'f19421c1d4aa40978ebb69ca19b0e20d'] = 1\n",
    "profile_trans.loc[p_3_1,'fafdcd668e3743c1bb461111dcafc2a4'] = 1\n",
    "profile_trans.loc[p_3_2,'2298d6c36e964ae4a3e7e9706d1fb8c2'] = 1\n",
    "profile_trans.loc[p_4,'3f207df678b143eea3cee63160fa8bed'] = 1\n",
    "profile_trans.loc[p_5,'4d5c57ea9a6940dd891ad53e9dbe8da0'] = 0\n",
    "profile_trans.loc[p_6,'9b98b8c7a33c4b65b9aebfe6a799e6d9'] = 0\n",
    "profile_trans.loc[p_7_1,'2906b810c7d4411798c6938adc9daaa5'] = 0\n",
    "profile_trans.loc[p_7_2,'2906b810c7d4411798c6938adc9daaa5'] = 0\n",
    "profile_trans.loc[p_8,'5a8bc65990b245e5a138643cd4eb9837'] = 0"
   ]
  },
  {
   "cell_type": "code",
   "execution_count": null,
   "metadata": {
    "collapsed": true
   },
   "outputs": [],
   "source": [
    "def FunkSVD(profile_trans, latent_features=4, learning_rate=0.0001, iters=100):\n",
    "    '''\n",
    "    This function performs matrix factorization using a basic form of FunkSVD with no regularization\n",
    "    \n",
    "    INPUT:\n",
    "    profile_trans(pandas DataFrame) - a DataFrame with customer id as rows, offer id as columns, and effectiveness as values\n",
    "    latent_features(int) - the number of latent features used\n",
    "    learning_rate(float) - the learning rate \n",
    "    iters(int) - the number of iterations\n",
    "    \n",
    "    OUTPUT:\n",
    "    user_mat - (numpy array) a user by latent feature matrix\n",
    "    movie_mat - (numpy array) a latent feature by movie matrix\n",
    "    '''\n",
    "    \n",
    "    # Set up useful values to be used through the rest of the function\n",
    "    n_cus = profile_trans.shape[0]\n",
    "    n_offer = profile_trans.shape[1]\n",
    "    num_ratings = np.count_nonzero(~np.isnan(profile_trans))\n",
    "    \n",
    "    # initialize the customer and offer matrices with random values\n",
    "    cus_mat = np.random.rand(n_users, latent_features)\n",
    "    offer_mat = np.random.rand(latent_features, n_movies)\n",
    "    \n",
    "    # initialize sse at 0 for first iteration\n",
    "    sse_accum = 0\n",
    "    \n",
    "    # header for running results\n",
    "    print(\"Optimizaiton Statistics\")\n",
    "    print(\"Iterations | Mean Squared Error \")\n",
    "    \n",
    "    # for each iteration\n",
    "    for iteration in range(iters):\n",
    "\n",
    "        # update our sse\n",
    "        old_sse = sse_accum\n",
    "        sse_accum = 0\n",
    "        \n",
    "        # For each user-movie pair\n",
    "        for i in range(n_users):\n",
    "            for j in range(n_movies):\n",
    "                \n",
    "                # if the rating exists\n",
    "                if ratings_mat[i, j] > 0:\n",
    "                    \n",
    "                    # compute the error as the actual minus the dot product of the user and movie latent features\n",
    "                    diff = ratings_mat[i, j] - np.dot(user_mat[i, :], movie_mat[:, j])\n",
    "                    \n",
    "                    # Keep track of the sum of squared errors for the matrix\n",
    "                    sse_accum += diff**2\n",
    "                    \n",
    "                    # update the values in each matrix in the direction of the gradient\n",
    "                    for k in range(latent_features):\n",
    "                        user_mat[i, k] += learning_rate * (2*diff*movie_mat[k, j])\n",
    "                        movie_mat[k, j] += learning_rate * (2*diff*user_mat[i, k])\n",
    "\n",
    "        # print results for iteration\n",
    "        print(\"%d \\t\\t %f\" % (iteration+1, sse_accum / num_ratings))\n",
    "        \n",
    "    return user_mat, movie_mat "
   ]
  },
  {
   "cell_type": "code",
   "execution_count": 39,
   "metadata": {
    "scrolled": true
   },
   "outputs": [
    {
     "data": {
      "text/html": [
       "<div>\n",
       "<style scoped>\n",
       "    .dataframe tbody tr th:only-of-type {\n",
       "        vertical-align: middle;\n",
       "    }\n",
       "\n",
       "    .dataframe tbody tr th {\n",
       "        vertical-align: top;\n",
       "    }\n",
       "\n",
       "    .dataframe thead th {\n",
       "        text-align: right;\n",
       "    }\n",
       "</style>\n",
       "<table border=\"1\" class=\"dataframe\">\n",
       "  <thead>\n",
       "    <tr style=\"text-align: right;\">\n",
       "      <th></th>\n",
       "      <th>age</th>\n",
       "      <th>income</th>\n",
       "      <th>F</th>\n",
       "      <th>M</th>\n",
       "      <th>young</th>\n",
       "      <th>mid_age</th>\n",
       "      <th>aged</th>\n",
       "      <th>offer_1</th>\n",
       "      <th>offer_2</th>\n",
       "      <th>offer_3</th>\n",
       "      <th>offer_4</th>\n",
       "      <th>offer_5</th>\n",
       "      <th>offer_6</th>\n",
       "      <th>offer_7</th>\n",
       "      <th>offer_8</th>\n",
       "      <th>offer_9</th>\n",
       "      <th>offer_10</th>\n",
       "      <th>off_drive_coef</th>\n",
       "    </tr>\n",
       "    <tr>\n",
       "      <th>id</th>\n",
       "      <th></th>\n",
       "      <th></th>\n",
       "      <th></th>\n",
       "      <th></th>\n",
       "      <th></th>\n",
       "      <th></th>\n",
       "      <th></th>\n",
       "      <th></th>\n",
       "      <th></th>\n",
       "      <th></th>\n",
       "      <th></th>\n",
       "      <th></th>\n",
       "      <th></th>\n",
       "      <th></th>\n",
       "      <th></th>\n",
       "      <th></th>\n",
       "      <th></th>\n",
       "      <th></th>\n",
       "    </tr>\n",
       "  </thead>\n",
       "  <tbody>\n",
       "    <tr>\n",
       "      <th>0610b486422d4921ae7d2bf64640c50b</th>\n",
       "      <td>55</td>\n",
       "      <td>112000.0</td>\n",
       "      <td>1</td>\n",
       "      <td>0</td>\n",
       "      <td>0</td>\n",
       "      <td>0</td>\n",
       "      <td>1</td>\n",
       "      <td>0.0</td>\n",
       "      <td>0.0</td>\n",
       "      <td>0.0</td>\n",
       "      <td>0.0</td>\n",
       "      <td>0.0</td>\n",
       "      <td>0.0</td>\n",
       "      <td>0.0</td>\n",
       "      <td>0.0</td>\n",
       "      <td>0.0</td>\n",
       "      <td>0.0</td>\n",
       "      <td>1.0000</td>\n",
       "    </tr>\n",
       "    <tr>\n",
       "      <th>78afa995795e4d85b5d9ceeca43f5fef</th>\n",
       "      <td>75</td>\n",
       "      <td>100000.0</td>\n",
       "      <td>1</td>\n",
       "      <td>0</td>\n",
       "      <td>0</td>\n",
       "      <td>0</td>\n",
       "      <td>1</td>\n",
       "      <td>1.0</td>\n",
       "      <td>0.0</td>\n",
       "      <td>0.0</td>\n",
       "      <td>1.0</td>\n",
       "      <td>0.0</td>\n",
       "      <td>0.0</td>\n",
       "      <td>0.0</td>\n",
       "      <td>1.0</td>\n",
       "      <td>-1.0</td>\n",
       "      <td>0.0</td>\n",
       "      <td>0.5714</td>\n",
       "    </tr>\n",
       "    <tr>\n",
       "      <th>e2127556f4f64592b11af22de27a7932</th>\n",
       "      <td>68</td>\n",
       "      <td>70000.0</td>\n",
       "      <td>0</td>\n",
       "      <td>1</td>\n",
       "      <td>0</td>\n",
       "      <td>0</td>\n",
       "      <td>1</td>\n",
       "      <td>0.0</td>\n",
       "      <td>0.0</td>\n",
       "      <td>0.0</td>\n",
       "      <td>1.0</td>\n",
       "      <td>0.0</td>\n",
       "      <td>0.0</td>\n",
       "      <td>1.0</td>\n",
       "      <td>0.0</td>\n",
       "      <td>0.0</td>\n",
       "      <td>-1.0</td>\n",
       "      <td>0.3191</td>\n",
       "    </tr>\n",
       "    <tr>\n",
       "      <th>389bc3fa690240e798340f5a15918d5c</th>\n",
       "      <td>65</td>\n",
       "      <td>53000.0</td>\n",
       "      <td>0</td>\n",
       "      <td>1</td>\n",
       "      <td>0</td>\n",
       "      <td>0</td>\n",
       "      <td>1</td>\n",
       "      <td>0.0</td>\n",
       "      <td>0.0</td>\n",
       "      <td>0.0</td>\n",
       "      <td>0.0</td>\n",
       "      <td>0.0</td>\n",
       "      <td>0.0</td>\n",
       "      <td>1.0</td>\n",
       "      <td>0.0</td>\n",
       "      <td>1.0</td>\n",
       "      <td>1.0</td>\n",
       "      <td>1.0000</td>\n",
       "    </tr>\n",
       "    <tr>\n",
       "      <th>2eeac8d8feae4a8cad5a6af0499a211d</th>\n",
       "      <td>58</td>\n",
       "      <td>51000.0</td>\n",
       "      <td>0</td>\n",
       "      <td>1</td>\n",
       "      <td>0</td>\n",
       "      <td>0</td>\n",
       "      <td>1</td>\n",
       "      <td>0.0</td>\n",
       "      <td>0.0</td>\n",
       "      <td>0.0</td>\n",
       "      <td>0.0</td>\n",
       "      <td>0.0</td>\n",
       "      <td>-1.0</td>\n",
       "      <td>1.0</td>\n",
       "      <td>0.0</td>\n",
       "      <td>0.0</td>\n",
       "      <td>0.0</td>\n",
       "      <td>0.7957</td>\n",
       "    </tr>\n",
       "  </tbody>\n",
       "</table>\n",
       "</div>"
      ],
      "text/plain": [
       "                                  age    income  F  M  young  mid_age  aged  \\\n",
       "id                                                                            \n",
       "0610b486422d4921ae7d2bf64640c50b   55  112000.0  1  0      0        0     1   \n",
       "78afa995795e4d85b5d9ceeca43f5fef   75  100000.0  1  0      0        0     1   \n",
       "e2127556f4f64592b11af22de27a7932   68   70000.0  0  1      0        0     1   \n",
       "389bc3fa690240e798340f5a15918d5c   65   53000.0  0  1      0        0     1   \n",
       "2eeac8d8feae4a8cad5a6af0499a211d   58   51000.0  0  1      0        0     1   \n",
       "\n",
       "                                  offer_1  offer_2  offer_3  offer_4  offer_5  \\\n",
       "id                                                                              \n",
       "0610b486422d4921ae7d2bf64640c50b      0.0      0.0      0.0      0.0      0.0   \n",
       "78afa995795e4d85b5d9ceeca43f5fef      1.0      0.0      0.0      1.0      0.0   \n",
       "e2127556f4f64592b11af22de27a7932      0.0      0.0      0.0      1.0      0.0   \n",
       "389bc3fa690240e798340f5a15918d5c      0.0      0.0      0.0      0.0      0.0   \n",
       "2eeac8d8feae4a8cad5a6af0499a211d      0.0      0.0      0.0      0.0      0.0   \n",
       "\n",
       "                                  offer_6  offer_7  offer_8  offer_9  \\\n",
       "id                                                                     \n",
       "0610b486422d4921ae7d2bf64640c50b      0.0      0.0      0.0      0.0   \n",
       "78afa995795e4d85b5d9ceeca43f5fef      0.0      0.0      1.0     -1.0   \n",
       "e2127556f4f64592b11af22de27a7932      0.0      1.0      0.0      0.0   \n",
       "389bc3fa690240e798340f5a15918d5c      0.0      1.0      0.0      1.0   \n",
       "2eeac8d8feae4a8cad5a6af0499a211d     -1.0      1.0      0.0      0.0   \n",
       "\n",
       "                                  offer_10  off_drive_coef  \n",
       "id                                                          \n",
       "0610b486422d4921ae7d2bf64640c50b       0.0          1.0000  \n",
       "78afa995795e4d85b5d9ceeca43f5fef       0.0          0.5714  \n",
       "e2127556f4f64592b11af22de27a7932      -1.0          0.3191  \n",
       "389bc3fa690240e798340f5a15918d5c       1.0          1.0000  \n",
       "2eeac8d8feae4a8cad5a6af0499a211d       0.0          0.7957  "
      ]
     },
     "execution_count": 39,
     "metadata": {},
     "output_type": "execute_result"
    }
   ],
   "source": [
    "# step 9\n",
    "profile = profile.set_index('id')\n",
    "profile_trans = pd.concat([profile.loc[:, ['age', 'income', 'F', 'M', 'young', 'mid_age', 'aged']], profile_trans], axis=1)\n",
    "profile_trans.drop(['amount_with_offer', 'amount_without_offer'], axis=1, inplace=True)\n",
    "profile_trans.columns = ['age', 'income', 'F', 'M', 'young', 'mid_age', 'aged', 'offer_1', 'offer_2', 'offer_3', 'offer_4', 'offer_5', \\\n",
    "                   'offer_6', 'offer_7', 'offer_8', 'offer_9', 'offer_10', 'off_drive_coef']\n",
    "profile_trans.head()"
   ]
  },
  {
   "cell_type": "code",
   "execution_count": 40,
   "metadata": {},
   "outputs": [
    {
     "data": {
      "text/plain": [
       " 0.00    10084\n",
       "-1.00     2663\n",
       " 1.00     2038\n",
       " 0.33       23\n",
       "-0.33       14\n",
       " 0.50        2\n",
       "-0.50        1\n",
       "Name: offer_1, dtype: int64"
      ]
     },
     "execution_count": 40,
     "metadata": {},
     "output_type": "execute_result"
    }
   ],
   "source": [
    "profile_trans.offer_1.value_counts()"
   ]
  },
  {
   "cell_type": "markdown",
   "metadata": {},
   "source": [
    "### <span id=\"2\">2. Training model</span>\n",
    "\n",
    "#### 2.1 Classification model\n"
   ]
  },
  {
   "cell_type": "code",
   "execution_count": 41,
   "metadata": {
    "collapsed": true
   },
   "outputs": [],
   "source": [
    "from sklearn.externals import joblib"
   ]
  },
  {
   "cell_type": "code",
   "execution_count": 42,
   "metadata": {
    "collapsed": true
   },
   "outputs": [],
   "source": [
    "def effc_train_data(offer_id, profile_trans = profile_trans):\n",
    "    offer_num = int(offer_id[6:])\n",
    "    offer_num_data = profile_trans[abs(profile_trans[offer_id]) == 1].iloc[:, [0,1,2,3,4,5,6,(6 + offer_num)]]\n",
    "    \n",
    "    return offer_num_data"
   ]
  },
  {
   "cell_type": "code",
   "execution_count": null,
   "metadata": {
    "collapsed": true
   },
   "outputs": [],
   "source": []
  },
  {
   "cell_type": "code",
   "execution_count": null,
   "metadata": {
    "collapsed": true
   },
   "outputs": [],
   "source": []
  },
  {
   "cell_type": "code",
   "execution_count": null,
   "metadata": {
    "collapsed": true
   },
   "outputs": [],
   "source": []
  },
  {
   "cell_type": "code",
   "execution_count": 43,
   "metadata": {
    "collapsed": true
   },
   "outputs": [],
   "source": [
    "def do_gird_search(offer_num_data):\n",
    "    '''\n",
    "    '''\n",
    "    X, y = offer_num_data.iloc[:,:-1], offer_num_data.iloc[:,-1]\n",
    "    clf = RandomForestClassifier()\n",
    "    \n",
    "    param_dist = {'n_estimators': [100, 200, 300, 500],\n",
    "                  'criterion': ['gini', 'entropy'],\n",
    "                  'max_depth': [5, 7, 10, 15, None],\n",
    "                  'min_samples_split': [2, 3, 5, 7]\n",
    "                 }\n",
    "    \n",
    "    scoring = {'Precision': 'precision', 'Recall': 'recall', 'F1': 'f1'}\n",
    "    \n",
    "    grid_clf = GridSearchCV(clf, param_dist, scoring = scoring, refit = 'F1', cv=5, return_train_score=False)\n",
    "    grid_clf.fit(X, y)\n",
    "    \n",
    "    return grid_clf"
   ]
  },
  {
   "cell_type": "code",
   "execution_count": 46,
   "metadata": {},
   "outputs": [
    {
     "name": "stderr",
     "output_type": "stream",
     "text": [
      "[=========================================================================]100%\r"
     ]
    },
    {
     "name": "stdout",
     "output_type": "stream",
     "text": [
      "\n",
      " Time taken: 1.0 hours 45.0 minutes and 17.41 seconds.\n"
     ]
    },
    {
     "name": "stderr",
     "output_type": "stream",
     "text": [
      "\n"
     ]
    }
   ],
   "source": [
    "grid_clfs = []\n",
    "model_comp_rate = []\n",
    "\n",
    "offer_list = profile_trans.columns[7:-1]\n",
    "start_time = timer()\n",
    "cnter = 0\n",
    "pbar = progressbar.ProgressBar(maxval=len(offer_list), widgets=[progressbar.Bar('=', '[', ']'), progressbar.Percentage()])\n",
    "pbar.start()\n",
    "\n",
    "for i, offer_num in enumerate(offer_list):\n",
    "    cnter+=1 \n",
    "    pbar.update(cnter)\n",
    "    \n",
    "    offer_num_data = effc_train_data(offer_num)\n",
    "    \n",
    "    grid_clf = do_gird_search(offer_num_data)\n",
    "    joblib.dump(grid_clf, './clf_best_mdls/clf_'+str(i+1)+'.model')\n",
    "    grid_clfs.append(grid_clf)\n",
    "    \n",
    "    result = pd.DataFrame(grid_clf.cv_results_)\n",
    "    model_precision = round(int(result[result.rank_test_F1 == 1]['mean_test_Precision'].values[0]*100000)/1000,2)\n",
    "    model_comp_rate.append(model_precision)\n",
    "\n",
    "pbar.finish()\n",
    "timer(start_time)"
   ]
  },
  {
   "cell_type": "code",
   "execution_count": 47,
   "metadata": {},
   "outputs": [
    {
     "data": {
      "text/plain": [
       "[60.68, 60.05, 61.37, 60.51, 59.86, 65.5, 68.57, 64.43, 59.53, 60.16]"
      ]
     },
     "execution_count": 47,
     "metadata": {},
     "output_type": "execute_result"
    }
   ],
   "source": [
    "model_comp_rate"
   ]
  },
  {
   "cell_type": "code",
   "execution_count": null,
   "metadata": {
    "collapsed": true
   },
   "outputs": [],
   "source": [
    "transcript.offer_id"
   ]
  },
  {
   "cell_type": "code",
   "execution_count": null,
   "metadata": {
    "collapsed": true
   },
   "outputs": [],
   "source": [
    "result.to_csv('result.csv')"
   ]
  },
  {
   "cell_type": "code",
   "execution_count": null,
   "metadata": {
    "collapsed": true
   },
   "outputs": [],
   "source": [
    "for i in offers:\n",
    "    "
   ]
  },
  {
   "cell_type": "code",
   "execution_count": null,
   "metadata": {
    "collapsed": true
   },
   "outputs": [],
   "source": [
    "X1_train, X1_test, y1_train, y1_test = train_test_split(offer_1.iloc[:,:4], offer_1.offer_1, test_size = 0.2)"
   ]
  },
  {
   "cell_type": "code",
   "execution_count": null,
   "metadata": {
    "collapsed": true
   },
   "outputs": [],
   "source": [
    "clf_1 =SVC(random_state=42)\n",
    "\n",
    "y1_pred = clf.predict(X1_test)\n",
    "\n",
    "print(classification_report(y1_test, y1_pred))"
   ]
  },
  {
   "cell_type": "code",
   "execution_count": null,
   "metadata": {
    "collapsed": true
   },
   "outputs": [],
   "source": [
    "roc_auc_score(y1_test, y1_pred)"
   ]
  },
  {
   "cell_type": "code",
   "execution_count": null,
   "metadata": {
    "collapsed": true
   },
   "outputs": [],
   "source": [
    "confusion_matrix(y1_test, y1_pred)"
   ]
  },
  {
   "cell_type": "code",
   "execution_count": null,
   "metadata": {
    "collapsed": true
   },
   "outputs": [],
   "source": [
    "y1_pred[:10]"
   ]
  },
  {
   "cell_type": "code",
   "execution_count": null,
   "metadata": {
    "collapsed": true
   },
   "outputs": [],
   "source": [
    "def validate(y_test, y_pred):\n",
    "    '''validate the model prediction effectiveness\n",
    "    INPUT:\n",
    "    y_test: y_test dataset\n",
    "    y_perd: prediction result from \n",
    "    '''\n",
    "    tot_1 = 0\n",
    "    cor_1 = 0\n",
    "    \n",
    "    for i in range(y1_test.shape[0]):\n",
    "            if y1_test.iloc[i, j] == 1:\n",
    "                tot_1 += 1\n",
    "                if y1_pred[i, j] == 1:\n",
    "                    cor_1 += 1\n",
    "    print(cor_1 / tot_1)\n",
    "                    "
   ]
  },
  {
   "cell_type": "code",
   "execution_count": null,
   "metadata": {
    "collapsed": true
   },
   "outputs": [],
   "source": [
    "validate(y1_test, y1_pred)"
   ]
  },
  {
   "cell_type": "code",
   "execution_count": null,
   "metadata": {
    "collapsed": true
   },
   "outputs": [],
   "source": []
  },
  {
   "cell_type": "code",
   "execution_count": null,
   "metadata": {
    "collapsed": true
   },
   "outputs": [],
   "source": []
  },
  {
   "cell_type": "code",
   "execution_count": null,
   "metadata": {
    "collapsed": true
   },
   "outputs": [],
   "source": [
    "# set up a progress bar\n",
    "start_time = timer()\n",
    "\n",
    "cnter = 0\n",
    "pbar = progressbar.ProgressBar(maxval=profile_trans.shape[0], widgets=[progressbar.Bar('=', '[', ']'), progressbar.Percentage()])\n",
    "pbar.start()\n",
    "\n",
    "# step 2\n",
    "for cus_ind in range(profile_trans.shape[0]):      \n",
    "    # update progress bar\n",
    "    cnter+=1 \n",
    "    pbar.update(cnter)\n",
    "    \n",
    "    # step 3 to 7\n",
    "    cus_id = profile_trans.index[cus_ind]\n",
    "    trans_recs = get_trans_recs(cus_id) # pull his/her transcripts\n",
    "    \n",
    "    if trans_recs.shape[0] == 0: # if there is no record in customer's record, skip the cusotmer\n",
    "        continue\n",
    "    \n",
    "    else:\n",
    "        trans_idx = trans_recs[trans_recs.event == 'transaction'].index.values # save all transaction event index\n",
    "        view_idx = trans_recs[trans_recs.event == 'offer viewed'].index.values # save all offer view event index\n",
    "        \n",
    "        if len(view_idx) > 0: # customer has noticed offer\n",
    "            offer_trans_idx = [] # later to store offer related trans\n",
    "\n",
    "            for view_ind in view_idx:\n",
    "                off_id = trans_recs.loc[view_ind, 'offer_id'] # store the viewed offer id\n",
    "                off_hour = int(portfolio[portfolio.id == off_id].duration) * 24 # offer duration hour\n",
    "                view_start = trans_recs.loc[view_ind, 'time'] # the time customer notice the offer\n",
    "\n",
    "                try: # If the view time is within the duration of offer\n",
    "                    receive_ind = trans_recs[(trans_recs.offer_id == off_id) & \n",
    "                                         (trans_recs.event == 'offer received') & \n",
    "                                         (trans_recs.time >= (view_start - off_hour)) & \n",
    "                                         (trans_recs.time <= view_start)].index[0] # get the offer receive index\n",
    "\n",
    "                    off_start = trans_recs.loc[receive_ind, 'time']\n",
    "                    off_end = off_start + off_hour\n",
    "\n",
    "                    if off_id in bogo_disc_offer_ids: # BOGO or discount case\n",
    "                        try:\n",
    "                            comp_ind = trans_recs[(trans_recs.offer_id == off_id) & \n",
    "                                              (trans_recs.event == 'offer completed') & \n",
    "                                              (trans_recs.time >= off_start) & \n",
    "                                              (trans_recs.time <= off_end)].index[0] # get the offer complete index\n",
    "\n",
    "                            for i in range(view_ind + 1, comp_ind):\n",
    "                                if i in trans_idx:\n",
    "                                    offer_trans_idx.append(i) # Record related transactions as offer related\n",
    "\n",
    "                            profile_trans.loc[cus_id, off_id] = 1 # viewed and completed the offer\n",
    "                        except:\n",
    "                            profile_trans.loc[cus_id, off_id] = -1 # viewed and not completed offer\n",
    "\n",
    "                    else: # Informational case\n",
    "                        info_trans_idx = trans_recs[(trans_recs.time >= view_start) & \n",
    "                                                    (trans_recs.time <= off_end) & \n",
    "                                                    (trans_recs.event == 'transaction')].index.values\n",
    "                        \n",
    "                        if len(info_trans_idx) > 0:\n",
    "                            offer_trans_idx.extend(info_trans_idx) # record related transactions as offer related\n",
    "                            profile_trans.loc[cus_id, off_id] = 1 # viewed and made transaction during the period\n",
    "                        \n",
    "                        else:\n",
    "                            profile_trans.loc[cus_id, off_id] = -1 # viewed and made no transaction during the period\n",
    "\n",
    "                except: # If the view time is out of the duration of offer\n",
    "                    continue\n",
    "\n",
    "            offer_trans_idx = list(set(offer_trans_idx))\n",
    "            not_offer_trans_idx = np.setdiff1d(trans_idx, offer_trans_idx, assume_unique=True)\n",
    "\n",
    "            # Count the amount of total transaction for offer related and not offer related\n",
    "            for ind in offer_trans_idx:\n",
    "                profile_trans.loc[cus_id, 'amount_with_offer'] += trans_recs.loc[ind, 'value']\n",
    "            for ind in not_offer_trans_idx:\n",
    "                profile_trans.loc[cus_id, 'amount_without_offer'] += trans_recs.loc[ind, 'value']\n",
    "        \n",
    "        else: # customer has never noticed offer\n",
    "            for ind in trans_idx:\n",
    "                profile_trans.loc[cus_id, 'amount_with_offer'] += trans_recs.loc[ind, 'value']\n",
    "        \n",
    "pbar.finish()\n",
    "timer(start_time)"
   ]
  }
 ],
 "metadata": {
  "kernelspec": {
   "display_name": "Python 3",
   "language": "python",
   "name": "python3"
  },
  "language_info": {
   "codemirror_mode": {
    "name": "ipython",
    "version": 3
   },
   "file_extension": ".py",
   "mimetype": "text/x-python",
   "name": "python",
   "nbconvert_exporter": "python",
   "pygments_lexer": "ipython3",
   "version": "3.7.0"
  }
 },
 "nbformat": 4,
 "nbformat_minor": 2
}
